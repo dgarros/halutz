{
 "cells": [
  {
   "cell_type": "markdown",
   "metadata": {},
   "source": [
    "Create a client for system that uses a Token in the request header.  We create a `requests` Session instance and pass this to `halutlz` when creating the client."
   ]
  },
  {
   "cell_type": "code",
   "execution_count": 87,
   "metadata": {},
   "outputs": [
    {
     "name": "stdout",
     "output_type": "stream",
     "text": [
      "VLAN-ID is: 12 \n"
     ]
    }
   ],
   "source": [
    "from halutz.client import Client\n",
    "from requests.sessions import Session\n",
    "import json\n",
    "\n",
    "my_session = Session()\n",
    "my_session.headers['Authorization'] = \"Token 0123456789abcdef0123456789abcdef01234567\"\n",
    "my_api_url = 'http://localhost:32768'\n",
    "my_api_doc_url = my_api_url + \"/api/docs?format=openapi\"\n",
    "\n",
    "client = Client(origin_url=my_api_url, \n",
    "                spec_dict=my_session.get(my_api_doc_url).json(),\n",
    "                requests_session=my_session)\n",
    "\n",
    "resp, ok = client.request.ipam.ipam_vlans_list(name=\"Blue\")\n",
    "\n",
    "vlan_data = resp['results'][0]\n",
    "\n",
    "print \"VLAN-ID is: %s \" % vlan_data['vid']"
   ]
  },
  {
   "cell_type": "code",
   "execution_count": 88,
   "metadata": {},
   "outputs": [
    {
     "data": {
      "text/plain": [
       "True"
      ]
     },
     "execution_count": 88,
     "metadata": {},
     "output_type": "execute_result"
    }
   ],
   "source": [
    "edit_vlan = client.request.ipam.ipam_vlans_partial_update\n",
    "edit_vlan.data.vid = 1001\n",
    "\n",
    "# check for valid data, if not valid, this will raise an Exception\n",
    "edit_vlan.data.validate()"
   ]
  },
  {
   "cell_type": "code",
   "execution_count": 89,
   "metadata": {},
   "outputs": [
    {
     "name": "stdout",
     "output_type": "stream",
     "text": [
      "{\n",
      "  \"status\": 1, \n",
      "  \"group\": null, \n",
      "  \"name\": \"Blue\", \n",
      "  \"vid\": 1001, \n",
      "  \"site\": null, \n",
      "  \"role\": null, \n",
      "  \"custom_fields\": {}, \n",
      "  \"id\": 1, \n",
      "  \"tenant\": null, \n",
      "  \"description\": \"\"\n",
      "}\n"
     ]
    }
   ],
   "source": [
    "# now execute the edit on the VLAN, \n",
    "resp, ok = edit_vlan(id=vlan_data['id'])\n",
    "\n",
    "print json.dumps(resp, indent=2)"
   ]
  }
 ],
 "metadata": {
  "kernelspec": {
   "display_name": "Python 2",
   "language": "python",
   "name": "python2"
  },
  "language_info": {
   "codemirror_mode": {
    "name": "ipython",
    "version": 2
   },
   "file_extension": ".py",
   "mimetype": "text/x-python",
   "name": "python",
   "nbconvert_exporter": "python",
   "pygments_lexer": "ipython2",
   "version": "2.7.10"
  },
  "toc": {
   "nav_menu": {},
   "number_sections": true,
   "sideBar": true,
   "skip_h1_title": false,
   "toc_cell": false,
   "toc_position": {},
   "toc_section_display": "block",
   "toc_window_display": false
  },
  "varInspector": {
   "cols": {
    "lenName": 16,
    "lenType": 16,
    "lenVar": 40
   },
   "kernels_config": {
    "python": {
     "delete_cmd_postfix": "",
     "delete_cmd_prefix": "del ",
     "library": "var_list.py",
     "varRefreshCmd": "print(var_dic_list())"
    },
    "r": {
     "delete_cmd_postfix": ") ",
     "delete_cmd_prefix": "rm(",
     "library": "var_list.r",
     "varRefreshCmd": "cat(var_dic_list()) "
    }
   },
   "types_to_exclude": [
    "module",
    "function",
    "builtin_function_or_method",
    "instance",
    "_Feature"
   ],
   "window_display": false
  }
 },
 "nbformat": 4,
 "nbformat_minor": 2
}
