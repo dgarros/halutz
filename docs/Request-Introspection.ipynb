{
 "cells": [
  {
   "cell_type": "markdown",
   "metadata": {},
   "source": [
    "# Request Introspection\n",
    "\n",
    "Requests support the ability for you to examine information about it, which we'll call *introspection*.  For example, you might want to know what parameters are required, if there is body parameters, and what responses are supported.  Let's first get started by creating our client instance."
   ]
  },
  {
   "cell_type": "code",
   "execution_count": 47,
   "metadata": {},
   "outputs": [],
   "source": [
    "# %load docs_client.py\n",
    "from halutz.client import Client\n",
    "import json\n",
    "\n",
    "server_url = 'http://localhost:32768'\n",
    "swagger_spec = json.load(open('swagger_spec.json'))\n",
    "\n",
    "client = Client(server_url, origin_spec=swagger_spec)"
   ]
  },
  {
   "cell_type": "markdown",
   "metadata": {},
   "source": [
    "## Basic Information\n",
    "\n",
    "You can find basic information simply by examing the request variable. This information will give you the API path, the http command (method), as well as a list of all parameters."
   ]
  },
  {
   "cell_type": "code",
   "execution_count": 48,
   "metadata": {},
   "outputs": [],
   "source": [
    "rqst = client.request.ipam.ipam_vlans_list"
   ]
  },
  {
   "cell_type": "code",
   "execution_count": 49,
   "metadata": {},
   "outputs": [
    {
     "data": {
      "text/plain": [
       "Request: {\n",
       "   \"path\": \"/api/ipam/vlans/\", \n",
       "   \"params\": [\n",
       "      \"status\", \n",
       "      \"group\", \n",
       "      \"name\", \n",
       "      \"vid\", \n",
       "      \"tenant_id\", \n",
       "      \"site_id\", \n",
       "      \"site\", \n",
       "      \"id__in\", \n",
       "      \"role_id\", \n",
       "      \"q\", \n",
       "      \"limit\", \n",
       "      \"offset\", \n",
       "      \"role\", \n",
       "      \"group_id\", \n",
       "      \"tenant\"\n",
       "   ], \n",
       "   \"method\": \"get\"\n",
       "}"
      ]
     },
     "execution_count": 49,
     "metadata": {},
     "output_type": "execute_result"
    }
   ],
   "source": [
    "rqst"
   ]
  },
  {
   "cell_type": "markdown",
   "metadata": {},
   "source": [
    "These values are also available as request attributes.  For example:"
   ]
  },
  {
   "cell_type": "code",
   "execution_count": 50,
   "metadata": {},
   "outputs": [
    {
     "data": {
      "text/plain": [
       "u'/api/ipam/vlans/'"
      ]
     },
     "execution_count": 50,
     "metadata": {},
     "output_type": "execute_result"
    }
   ],
   "source": [
    "rqst.path"
   ]
  },
  {
   "cell_type": "code",
   "execution_count": 51,
   "metadata": {},
   "outputs": [
    {
     "data": {
      "text/plain": [
       "u'get'"
      ]
     },
     "execution_count": 51,
     "metadata": {},
     "output_type": "execute_result"
    }
   ],
   "source": [
    "rqst.method"
   ]
  },
  {
   "cell_type": "markdown",
   "metadata": {},
   "source": [
    "The request `params` attribute is a dictionary of parameter names.  You can introspect each of the parameters as well, as described in the next section"
   ]
  },
  {
   "cell_type": "code",
   "execution_count": 52,
   "metadata": {},
   "outputs": [
    {
     "data": {
      "text/plain": [
       "{u'group': <bravado_core.param.Param at 0x1090c9910>,\n",
       " u'group_id': <bravado_core.param.Param at 0x1090c98d0>,\n",
       " u'id__in': <bravado_core.param.Param at 0x1090c97d0>,\n",
       " u'limit': <bravado_core.param.Param at 0x1090c96d0>,\n",
       " u'name': <bravado_core.param.Param at 0x1090c9790>,\n",
       " u'offset': <bravado_core.param.Param at 0x1090c9710>,\n",
       " u'q': <bravado_core.param.Param at 0x1090c9810>,\n",
       " u'role': <bravado_core.param.Param at 0x1090c9a10>,\n",
       " u'role_id': <bravado_core.param.Param at 0x1090c99d0>,\n",
       " u'site': <bravado_core.param.Param at 0x1090c9890>,\n",
       " u'site_id': <bravado_core.param.Param at 0x1090c9850>,\n",
       " u'status': <bravado_core.param.Param at 0x1090c9a50>,\n",
       " u'tenant': <bravado_core.param.Param at 0x1090c9990>,\n",
       " u'tenant_id': <bravado_core.param.Param at 0x1090c9950>,\n",
       " u'vid': <bravado_core.param.Param at 0x1090c9750>}"
      ]
     },
     "execution_count": 52,
     "metadata": {},
     "output_type": "execute_result"
    }
   ],
   "source": [
    "rqst.params"
   ]
  },
  {
   "cell_type": "markdown",
   "metadata": {},
   "source": [
    "Finally, you can also obtain the complete Swagger spec definition for this request using the `spec` attribute.  This attribute returns a python dictionary:"
   ]
  },
  {
   "cell_type": "code",
   "execution_count": 53,
   "metadata": {},
   "outputs": [
    {
     "data": {
      "text/plain": [
       "{u'operationId': u'ipam_vlans_list',\n",
       " u'parameters': [{u'description': u'Number of results to return per page.',\n",
       "   u'in': u'query',\n",
       "   u'name': u'limit',\n",
       "   u'required': False,\n",
       "   u'type': u'integer'},\n",
       "  {u'description': u'The initial index from which to return the results.',\n",
       "   u'in': u'query',\n",
       "   u'name': u'offset',\n",
       "   u'required': False,\n",
       "   u'type': u'integer'},\n",
       "  {u'description': u'',\n",
       "   u'in': u'query',\n",
       "   u'name': u'vid',\n",
       "   u'required': False,\n",
       "   u'type': u'number'},\n",
       "  {u'description': u'',\n",
       "   u'in': u'query',\n",
       "   u'name': u'name',\n",
       "   u'required': False,\n",
       "   u'type': u'string'},\n",
       "  {u'description': u'Multiple values may be separated by commas.',\n",
       "   u'in': u'query',\n",
       "   u'name': u'id__in',\n",
       "   u'required': False,\n",
       "   u'type': u'number'},\n",
       "  {u'description': u'',\n",
       "   u'in': u'query',\n",
       "   u'name': u'q',\n",
       "   u'required': False,\n",
       "   u'type': u'string'},\n",
       "  {u'description': u'',\n",
       "   u'in': u'query',\n",
       "   u'name': u'site_id',\n",
       "   u'required': False,\n",
       "   u'type': u'string'},\n",
       "  {u'description': u'',\n",
       "   u'in': u'query',\n",
       "   u'name': u'site',\n",
       "   u'required': False,\n",
       "   u'type': u'string'},\n",
       "  {u'description': u'',\n",
       "   u'in': u'query',\n",
       "   u'name': u'group_id',\n",
       "   u'required': False,\n",
       "   u'type': u'string'},\n",
       "  {u'description': u'',\n",
       "   u'in': u'query',\n",
       "   u'name': u'group',\n",
       "   u'required': False,\n",
       "   u'type': u'string'},\n",
       "  {u'description': u'',\n",
       "   u'in': u'query',\n",
       "   u'name': u'tenant_id',\n",
       "   u'required': False,\n",
       "   u'type': u'string'},\n",
       "  {u'description': u'',\n",
       "   u'in': u'query',\n",
       "   u'name': u'tenant',\n",
       "   u'required': False,\n",
       "   u'type': u'string'},\n",
       "  {u'description': u'',\n",
       "   u'in': u'query',\n",
       "   u'name': u'role_id',\n",
       "   u'required': False,\n",
       "   u'type': u'string'},\n",
       "  {u'description': u'',\n",
       "   u'in': u'query',\n",
       "   u'name': u'role',\n",
       "   u'required': False,\n",
       "   u'type': u'string'},\n",
       "  {u'description': u'',\n",
       "   u'in': u'query',\n",
       "   u'name': u'status',\n",
       "   u'required': False,\n",
       "   u'type': u'string'}],\n",
       " u'responses': {u'200': {u'description': u''}},\n",
       " u'tags': [u'ipam']}"
      ]
     },
     "execution_count": 53,
     "metadata": {},
     "output_type": "execute_result"
    }
   ],
   "source": [
    "rqst.spec"
   ]
  },
  {
   "cell_type": "markdown",
   "metadata": {},
   "source": [
    "## Request Parameters\n",
    "\n",
    "You can further introspect each of the parameters.  For example, we can examine the `name` parameter:"
   ]
  },
  {
   "cell_type": "code",
   "execution_count": 54,
   "metadata": {},
   "outputs": [
    {
     "data": {
      "text/plain": [
       "{u'description': u'',\n",
       " u'in': u'query',\n",
       " u'name': u'name',\n",
       " u'required': False,\n",
       " u'type': u'string'}"
      ]
     },
     "execution_count": 54,
     "metadata": {},
     "output_type": "execute_result"
    }
   ],
   "source": [
    "rqst.params['name'].param_spec"
   ]
  },
  {
   "cell_type": "markdown",
   "metadata": {},
   "source": [
    "<div class=\"alert alert-info\">\n",
    "  <strong>Info: &nbsp;</strong>The `in` value intentifies if the parameter is located in the API `path`, the API `query` or is the `body` parameter.\n",
    "</div>"
   ]
  },
  {
   "cell_type": "markdown",
   "metadata": {},
   "source": [
    "Each param also provide a `required` attribute.  So you can easily look for required parameters.  Let's use a different request to demonstrate.  We'll get a request to \"replace\" an existing VLAN, and do the basic introspection."
   ]
  },
  {
   "cell_type": "code",
   "execution_count": 55,
   "metadata": {},
   "outputs": [
    {
     "data": {
      "text/plain": [
       "Request: {\n",
       "   \"path\": \"/api/ipam/vlans/{id}/\", \n",
       "   \"params\": [\n",
       "      \"status\", \n",
       "      \"group\", \n",
       "      \"name\", \n",
       "      \"vid\", \n",
       "      \"tenant_id\", \n",
       "      \"site_id\", \n",
       "      \"site\", \n",
       "      \"id__in\", \n",
       "      \"role_id\", \n",
       "      \"q\", \n",
       "      \"role\", \n",
       "      \"group_id\", \n",
       "      \"data\", \n",
       "      \"id\", \n",
       "      \"tenant\"\n",
       "   ], \n",
       "   \"method\": \"put\"\n",
       "}"
      ]
     },
     "execution_count": 55,
     "metadata": {},
     "output_type": "execute_result"
    }
   ],
   "source": [
    "rqst = client.request.ipam.ipam_vlans_update\n",
    "rqst"
   ]
  },
  {
   "cell_type": "markdown",
   "metadata": {},
   "source": [
    "Now let's find the required parameters:"
   ]
  },
  {
   "cell_type": "code",
   "execution_count": 56,
   "metadata": {},
   "outputs": [
    {
     "data": {
      "text/plain": [
       "[u'id']"
      ]
     },
     "execution_count": 56,
     "metadata": {},
     "output_type": "execute_result"
    }
   ],
   "source": [
    "[p_name for p_name, p_data in rqst.params.items() if p_data.required]"
   ]
  },
  {
   "cell_type": "markdown",
   "metadata": {},
   "source": [
    "So we can see that the `id` parameter is required."
   ]
  },
  {
   "cell_type": "markdown",
   "metadata": {},
   "source": [
    "## Parameters with Body Schemas\n",
    "\n",
    "You may be working with a Swagger spec that defines a body schema.  The schema could be either provided directly as part of the parameter spec or as a reference.  \n",
    "\n",
    "The following example is a schema directly contained within the parameter spec."
   ]
  },
  {
   "cell_type": "code",
   "execution_count": 57,
   "metadata": {},
   "outputs": [
    {
     "data": {
      "text/plain": [
       "{u'in': u'body',\n",
       " u'name': u'data',\n",
       " u'schema': {u'properties': {u'custom_fields': {u'description': u'',\n",
       "    u'type': u'string'},\n",
       "   u'description': {u'description': u'', u'type': u'string'},\n",
       "   u'group': {u'description': u'', u'type': u'string'},\n",
       "   u'name': {u'description': u'', u'type': u'string'},\n",
       "   u'role': {u'description': u'', u'type': u'string'},\n",
       "   u'site': {u'description': u'', u'type': u'string'},\n",
       "   u'status': {u'description': u'', u'type': u'string'},\n",
       "   u'tenant': {u'description': u'', u'type': u'string'},\n",
       "   u'vid': {u'description': u'', u'type': u'integer'}},\n",
       "  u'required': [u'vid', u'name'],\n",
       "  u'type': u'object'}}"
      ]
     },
     "execution_count": 57,
     "metadata": {},
     "output_type": "execute_result"
    }
   ],
   "source": [
    "rqst = client.request.ipam.ipam_vlans_create\n",
    "rqst.params['data'].param_spec"
   ]
  },
  {
   "cell_type": "markdown",
   "metadata": {},
   "source": [
    "In other cases, the schema is a reference to another part in the Swagger spec, called \"definitions\".  Here is such an example:\n",
    "\n",
    "```pyton\n",
    "{u'in': u'body',\n",
    " u'name': u'body',\n",
    " u'required': True,\n",
    " u'schema': {u'$ref': u'#/definitions/PostApiDesignRackTypesRequest'}\n",
    "```"
   ]
  },
  {
   "cell_type": "markdown",
   "metadata": {},
   "source": [
    "The `client` instance provides a method called `deref()` that you can use in both cases in order to extract the schema data.  For example:"
   ]
  },
  {
   "cell_type": "code",
   "execution_count": 58,
   "metadata": {},
   "outputs": [
    {
     "data": {
      "text/plain": [
       "{u'properties': {u'custom_fields': {u'description': u'', u'type': u'string'},\n",
       "  u'description': {u'description': u'', u'type': u'string'},\n",
       "  u'group': {u'description': u'', u'type': u'string'},\n",
       "  u'name': {u'description': u'', u'type': u'string'},\n",
       "  u'role': {u'description': u'', u'type': u'string'},\n",
       "  u'site': {u'description': u'', u'type': u'string'},\n",
       "  u'status': {u'description': u'', u'type': u'string'},\n",
       "  u'tenant': {u'description': u'', u'type': u'string'},\n",
       "  u'vid': {u'description': u'', u'type': u'integer'}},\n",
       " u'required': [u'vid', u'name'],\n",
       " u'type': u'object'}"
      ]
     },
     "execution_count": 58,
     "metadata": {},
     "output_type": "execute_result"
    }
   ],
   "source": [
    "client.deref(rqst.params['data'].param_spec['schema'])"
   ]
  },
  {
   "cell_type": "markdown",
   "metadata": {},
   "source": [
    "In the above introspection, you can see that the body `data` parameter requires you to provide the `vid` and `name` values."
   ]
  },
  {
   "cell_type": "markdown",
   "metadata": {},
   "source": [
    "# Next Topics\n",
    "\n",
    "  - <a href=\"Request-Body.ipynb\">Learn how to work with Request body parameters</a>\n",
    "  - <a href=\"Request-Responses.ipynb\">Working with Request responses</a>"
   ]
  }
 ],
 "metadata": {
  "kernelspec": {
   "display_name": "Python 2",
   "language": "python",
   "name": "python2"
  },
  "language_info": {
   "codemirror_mode": {
    "name": "ipython",
    "version": 2
   },
   "file_extension": ".py",
   "mimetype": "text/x-python",
   "name": "python",
   "nbconvert_exporter": "python",
   "pygments_lexer": "ipython2",
   "version": "2.7.10"
  },
  "toc": {
   "nav_menu": {},
   "number_sections": true,
   "sideBar": true,
   "skip_h1_title": false,
   "toc_cell": false,
   "toc_position": {},
   "toc_section_display": "block",
   "toc_window_display": true
  }
 },
 "nbformat": 4,
 "nbformat_minor": 2
}
