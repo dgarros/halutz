{
 "cells": [
  {
   "cell_type": "markdown",
   "metadata": {},
   "source": [
    "# Request Responses\n",
    "\n",
    "Executing a Request will return the tuple (response-data, ok).  If `ok` is `True`, then the response data is the request payload response data.  Let's get started by first creating our client."
   ]
  },
  {
   "cell_type": "code",
   "execution_count": 29,
   "metadata": {},
   "outputs": [],
   "source": [
    "# %load docs_client.py\n",
    "from halutz.client import Client\n",
    "import json\n",
    "\n",
    "base_url = 'http://localhost:32768'\n",
    "swagger_spec = json.load(open('swagger_spec.json'))\n",
    "\n",
    "client = Client(base_url=base_url, spec_dict=swagger_spec)\n"
   ]
  },
  {
   "cell_type": "markdown",
   "metadata": {},
   "source": [
    "## When Response is OK"
   ]
  },
  {
   "cell_type": "markdown",
   "metadata": {},
   "source": [
    "Now let's execute a command that we know will result in an ok response."
   ]
  },
  {
   "cell_type": "code",
   "execution_count": 30,
   "metadata": {},
   "outputs": [],
   "source": [
    "resp, ok = client.request.ipam.ipam_vlans_list()"
   ]
  },
  {
   "cell_type": "code",
   "execution_count": 31,
   "metadata": {},
   "outputs": [
    {
     "data": {
      "text/plain": [
       "True"
      ]
     },
     "execution_count": 31,
     "metadata": {},
     "output_type": "execute_result"
    }
   ],
   "source": [
    "ok"
   ]
  },
  {
   "cell_type": "code",
   "execution_count": 32,
   "metadata": {},
   "outputs": [
    {
     "data": {
      "text/plain": [
       "{u'count': 1,\n",
       " u'next': None,\n",
       " u'previous': None,\n",
       " u'results': [{u'custom_fields': {},\n",
       "   u'description': u'',\n",
       "   u'display_name': u'100 (Blue)',\n",
       "   u'group': None,\n",
       "   u'id': 3,\n",
       "   u'name': u'Blue',\n",
       "   u'role': None,\n",
       "   u'site': None,\n",
       "   u'status': {u'label': u'Active', u'value': 1},\n",
       "   u'tenant': None,\n",
       "   u'vid': 100}]}"
      ]
     },
     "execution_count": 32,
     "metadata": {},
     "output_type": "execute_result"
    }
   ],
   "source": [
    "resp"
   ]
  },
  {
   "cell_type": "markdown",
   "metadata": {},
   "source": [
    "## When a Response Fails\n",
    "\n",
    "When the `ok` value is `False`, then the response data is another tuple composed of the following:\n",
    "(response-content instance, reason-text, response-body-text).  For example, let's try to create a VLAN.  In this case, we have not provided an Authentication token to Netbox, so this command will fail."
   ]
  },
  {
   "cell_type": "code",
   "execution_count": 33,
   "metadata": {},
   "outputs": [
    {
     "data": {
      "text/plain": [
       "True"
      ]
     },
     "execution_count": 33,
     "metadata": {},
     "output_type": "execute_result"
    }
   ],
   "source": [
    "rqst = client.request.ipam.ipam_vlans_create\n",
    "rqst.data.vid = 10\n",
    "rqst.data.name = 'Read'\n",
    "rqst.data.validate()"
   ]
  },
  {
   "cell_type": "code",
   "execution_count": 34,
   "metadata": {},
   "outputs": [],
   "source": [
    "resp, ok = rqst()"
   ]
  },
  {
   "cell_type": "code",
   "execution_count": 35,
   "metadata": {},
   "outputs": [
    {
     "data": {
      "text/plain": [
       "False"
      ]
     },
     "execution_count": 35,
     "metadata": {},
     "output_type": "execute_result"
    }
   ],
   "source": [
    "ok"
   ]
  },
  {
   "cell_type": "code",
   "execution_count": 36,
   "metadata": {},
   "outputs": [
    {
     "data": {
      "text/plain": [
       "(<bravado.requests_client.RequestsResponseAdapter at 0x105e70d90>,\n",
       " '403 Forbidden',\n",
       " u'{\"detail\":\"Authentication credentials were not provided.\"}')"
      ]
     },
     "execution_count": 36,
     "metadata": {},
     "output_type": "execute_result"
    }
   ],
   "source": [
    "resp"
   ]
  },
  {
   "cell_type": "markdown",
   "metadata": {},
   "source": [
    "The `resp` shows us the reason for the command failure.  You can use the response-content instance as you would any other from the python [requests](http://docs.python-requests.org/en/master/user/quickstart/#response-content) package.  For example:"
   ]
  },
  {
   "cell_type": "code",
   "execution_count": 37,
   "metadata": {},
   "outputs": [],
   "source": [
    "contents = resp[0]"
   ]
  },
  {
   "cell_type": "code",
   "execution_count": 38,
   "metadata": {},
   "outputs": [
    {
     "data": {
      "text/plain": [
       "403"
      ]
     },
     "execution_count": 38,
     "metadata": {},
     "output_type": "execute_result"
    }
   ],
   "source": [
    "contents.status_code"
   ]
  },
  {
   "cell_type": "code",
   "execution_count": 39,
   "metadata": {},
   "outputs": [
    {
     "data": {
      "text/plain": [
       "'Forbidden'"
      ]
     },
     "execution_count": 39,
     "metadata": {},
     "output_type": "execute_result"
    }
   ],
   "source": [
    "contents.reason"
   ]
  },
  {
   "cell_type": "markdown",
   "metadata": {},
   "source": [
    "# Next Topics\n",
    "\n",
    "  - <a href=\"Request-Introspection.ipynb\">Learn about introspecting Requests</a>\n",
    "  - <a href=\"Request-Body.ipynb\">Learn about working with Request body parameters</a>"
   ]
  }
 ],
 "metadata": {
  "kernelspec": {
   "display_name": "Python 2",
   "language": "python",
   "name": "python2"
  },
  "language_info": {
   "codemirror_mode": {
    "name": "ipython",
    "version": 2
   },
   "file_extension": ".py",
   "mimetype": "text/x-python",
   "name": "python",
   "nbconvert_exporter": "python",
   "pygments_lexer": "ipython2",
   "version": "2.7.10"
  },
  "toc": {
   "nav_menu": {},
   "number_sections": true,
   "sideBar": true,
   "skip_h1_title": false,
   "toc_cell": false,
   "toc_position": {},
   "toc_section_display": "block",
   "toc_window_display": false
  }
 },
 "nbformat": 4,
 "nbformat_minor": 2
}
