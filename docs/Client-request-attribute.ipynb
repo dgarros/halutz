{
 "cells": [
  {
   "cell_type": "markdown",
   "metadata": {},
   "source": [
    "# Using the Client \"request\" Attribute\n"
   ]
  },
  {
   "cell_type": "markdown",
   "metadata": {},
   "source": [
    "When the `halutz` client dynamically constructs the client `request` attribute based on the Swagger spec you provide.  In truth, the heavy lifting is handled by the [bravado-core](https://github.com/Yelp/bravado-core) package.   This section first summarize the construction of the request property, and then provide a few examples."
   ]
  },
  {
   "cell_type": "markdown",
   "metadata": {},
   "source": [
    "## Introduction to Swagger Specifications"
   ]
  },
  {
   "cell_type": "markdown",
   "metadata": {},
   "source": [
    "Since the request property is based on the Swagger spec, it's helpful to understand a little about the spec structure.  The complete Swagger 2.0 specification is provided [here](https://github.com/OAI/OpenAPI-Specification/blob/master/versions/2.0.md)."
   ]
  },
  {
   "cell_type": "markdown",
   "metadata": {},
   "source": [
    "<div class=\"alert alert-warning\">\n",
    "  <strong>Note!  </strong>The latest OpenAPI specification (fka Swagger 3.0), can be found <a href=\"https://swagger.io/specification/\">here.</a>.  The `halutz` library will support the 3.0 spec in the future.  If you are using a 3.0 based API system, please let us know via the issues page.\n",
    "</div>"
   ]
  },
  {
   "cell_type": "markdown",
   "metadata": {},
   "source": [
    "The Swagger spec allows each API command to optionally include list of `tags` (string values), and an `operationId` value.  Here is a _snippet_ of an example API that has a tags = [\"ipam\"] and an operationId value of \"ipam_vlans_create\":"
   ]
  },
  {
   "cell_type": "markdown",
   "metadata": {},
   "source": [
    "```json\n",
    "{\n",
    "  \"/api/ipam/vlans/\": {\n",
    "    \"post\": {\n",
    "      \"tags\": [\n",
    "        \"ipam\"\n",
    "      ]\n",
    "    }\n",
    "  }\n",
    "}\n",
    "```"
   ]
  },
  {
   "cell_type": "markdown",
   "metadata": {},
   "source": [
    "The `tags` field is generally used to group API commands.  For example, there are a number of API commands that are part of the \"ipam\" group.  The `operationId` value is a means by which a user of the API can uniquely identify this command without having to necessarily know the exact API path and http-command -- so think of the operationId as an *alias*."
   ]
  },
  {
   "cell_type": "markdown",
   "metadata": {},
   "source": [
    "## Request Example with operationId in spec"
   ]
  },
  {
   "cell_type": "markdown",
   "metadata": {},
   "source": [
    "Let's first create a client, and then use the `request` property to get this \"ipam_vlans_create\" command."
   ]
  },
  {
   "cell_type": "code",
   "execution_count": 1,
   "metadata": {},
   "outputs": [],
   "source": [
    "# %load docs_client.py\n",
    "from halutz.client import Client\n",
    "import json\n",
    "\n",
    "base_url = 'http://localhost:32768'\n",
    "swagger_spec = json.load(open('swagger_spec.json'))\n",
    "\n",
    "client = Client(base_url=base_url, spec_dict=swagger_spec)\n"
   ]
  },
  {
   "cell_type": "markdown",
   "metadata": {},
   "source": [
    "If you are using ipython or a jupyter notebook, you can interactively see the available tag (groups) and API commands by pressing the <kbd>Tab</kbd> key after each dot.  When you prese the <kbd>Tab</kbd> after the initial request property, you will see a listing of all available groups:\n",
    "<br>\n",
    "<img src=\"media/request-attribute-1.png\">"
   ]
  },
  {
   "cell_type": "markdown",
   "metadata": {},
   "source": [
    "You can continue to select the group, and then you see a list of available operationId commands.  Continuing with the \"ipam_vlan_create\" example, we would select \"ipam\", press <kbd>.</kbd> and then presss <kbd>Tab</kbd>.  You would then see this:\n",
    "<br>\n",
    "<img src=\"media/request-attribute-2.png\">"
   ]
  },
  {
   "cell_type": "markdown",
   "metadata": {},
   "source": [
    "You can start typing out the operational ID command, for example \"ipam_vlan\", and you would see the list filtered:\n",
    "<br>\n",
    "<img src=\"media/request-attribute-3.png\">"
   ]
  },
  {
   "cell_type": "markdown",
   "metadata": {},
   "source": [
    "You can select the \"ipam_vlans_create\" from the list, or simply continue to type it out.  At which point you now have the Request instance for this specific API."
   ]
  },
  {
   "cell_type": "code",
   "execution_count": 2,
   "metadata": {},
   "outputs": [],
   "source": [
    "rqst = client.request.ipam.ipam_vlans_create"
   ]
  },
  {
   "cell_type": "markdown",
   "metadata": {},
   "source": [
    "We can introspect the request to see information about it.  There a a complete section dedicated to this topic, here, but for now, we can quickly see http-command and API path this command is using:"
   ]
  },
  {
   "cell_type": "code",
   "execution_count": 3,
   "metadata": {},
   "outputs": [
    {
     "data": {
      "text/plain": [
       "Request: {\n",
       "   \"path\": \"/api/ipam/vlans/\", \n",
       "   \"params\": [\n",
       "      \"data\"\n",
       "   ], \n",
       "   \"method\": \"post\"\n",
       "}"
      ]
     },
     "execution_count": 3,
     "metadata": {},
     "output_type": "execute_result"
    }
   ],
   "source": [
    "rqst"
   ]
  },
  {
   "cell_type": "markdown",
   "metadata": {},
   "source": [
    "## Request Example without operationId in spec"
   ]
  },
  {
   "cell_type": "markdown",
   "metadata": {},
   "source": [
    "Not all systems use operationId values in their Swagger specs.  In this case, the `bravado` library will use the API path to create the value.  Here is one such example:\n",
    "<br>\n",
    "<img src=\"media/request-attribute-4.png\">"
   ]
  },
  {
   "cell_type": "markdown",
   "metadata": {},
   "source": [
    "# Next Topics\n",
    "\n",
    "  - <a href=\"Requests-Introspection.ipynb\">Learn more about Request introspection</a>\n",
    "  - <a href=\"Requests-Body.ipynb\">Learn more about working with Request body parameters</a>"
   ]
  }
 ],
 "metadata": {
  "kernelspec": {
   "display_name": "Python 2",
   "language": "python",
   "name": "python2"
  },
  "language_info": {
   "codemirror_mode": {
    "name": "ipython",
    "version": 2
   },
   "file_extension": ".py",
   "mimetype": "text/x-python",
   "name": "python",
   "nbconvert_exporter": "python",
   "pygments_lexer": "ipython2",
   "version": "2.7.10"
  },
  "toc": {
   "nav_menu": {},
   "number_sections": true,
   "sideBar": true,
   "skip_h1_title": false,
   "toc_cell": false,
   "toc_position": {},
   "toc_section_display": "block",
   "toc_window_display": true
  }
 },
 "nbformat": 4,
 "nbformat_minor": 2
}
