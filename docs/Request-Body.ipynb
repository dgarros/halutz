{
 "cells": [
  {
   "cell_type": "markdown",
   "metadata": {},
   "source": [
    "# Working with Request Body Parameters\n",
    "\n",
    "One of the more challenging aspects of using an API is know what data is required, and whether or not you are proving *valid* data.  The halutz client will use the Swagger spec to validate your requests.  In truth, the halutz library is using the [python-jsonschema-objects](https://github.com/cwacek/python-jsonschema-objects) library for this function.  The halutz client adds some helpers as well.  Let's begin with first creating a client instance:"
   ]
  },
  {
   "cell_type": "code",
   "execution_count": 2,
   "metadata": {},
   "outputs": [],
   "source": [
    "# %load docs_client.py\n",
    "from halutz.client import Client\n",
    "import json\n",
    "\n",
    "server_url = 'http://localhost:32768'\n",
    "swagger_spec = json.load(open('swagger_spec.json'))\n",
    "\n",
    "client = Client(server_url, origin_spec=swagger_spec)\n"
   ]
  },
  {
   "cell_type": "markdown",
   "metadata": {},
   "source": [
    "## Requests with Body Parameters\n",
    "\n",
    "Not all Requests have body parameters.  You can easily tell by checking the Request `body_param` attribute.  For example, this request does not have a body parameter:"
   ]
  },
  {
   "cell_type": "code",
   "execution_count": 3,
   "metadata": {},
   "outputs": [
    {
     "name": "stdout",
     "output_type": "stream",
     "text": [
      "None\n"
     ]
    }
   ],
   "source": [
    "rqst = client.request.ipam.ipam_vlans_list\n",
    "print rqst.body_param"
   ]
  },
  {
   "cell_type": "markdown",
   "metadata": {},
   "source": [
    "Now let's use a Request that does have a body parameter"
   ]
  },
  {
   "cell_type": "code",
   "execution_count": 4,
   "metadata": {},
   "outputs": [
    {
     "name": "stdout",
     "output_type": "stream",
     "text": [
      "data\n"
     ]
    }
   ],
   "source": [
    "rqst = client.request.ipam.ipam_vlans_create\n",
    "print rqst.body_param"
   ]
  },
  {
   "cell_type": "markdown",
   "metadata": {},
   "source": [
    "Here we can see the request has a body parameter called `data`.  We can introspect the request as well:"
   ]
  },
  {
   "cell_type": "code",
   "execution_count": 5,
   "metadata": {},
   "outputs": [
    {
     "data": {
      "text/plain": [
       "Request: {\n",
       "   \"path\": \"/api/ipam/vlans/\", \n",
       "   \"params\": [\n",
       "      \"data\"\n",
       "   ], \n",
       "   \"method\": \"post\"\n",
       "}"
      ]
     },
     "execution_count": 5,
     "metadata": {},
     "output_type": "execute_result"
    }
   ],
   "source": [
    "rqst"
   ]
  },
  {
   "cell_type": "code",
   "execution_count": 6,
   "metadata": {},
   "outputs": [
    {
     "data": {
      "text/plain": [
       "{u'in': u'body',\n",
       " u'name': u'data',\n",
       " u'schema': {u'properties': {u'custom_fields': {u'description': u'',\n",
       "    u'type': u'string'},\n",
       "   u'description': {u'description': u'', u'type': u'string'},\n",
       "   u'group': {u'description': u'', u'type': u'string'},\n",
       "   u'name': {u'description': u'', u'type': u'string'},\n",
       "   u'role': {u'description': u'', u'type': u'string'},\n",
       "   u'site': {u'description': u'', u'type': u'string'},\n",
       "   u'status': {u'description': u'', u'type': u'string'},\n",
       "   u'tenant': {u'description': u'', u'type': u'string'},\n",
       "   u'vid': {u'description': u'', u'type': u'integer'}},\n",
       "  u'required': [u'vid', u'name'],\n",
       "  u'type': u'object'}}"
      ]
     },
     "execution_count": 6,
     "metadata": {},
     "output_type": "execute_result"
    }
   ],
   "source": [
    "rqst.params[rqst.body_param].param_spec"
   ]
  },
  {
   "cell_type": "markdown",
   "metadata": {},
   "source": [
    "## Accessing Body Fields\n",
    "\n",
    "When the halutz library provides you the Request instance it will automically add the body parameter as an attribute.  In the above example, the request instance would have another attribute called `data`.  "
   ]
  },
  {
   "cell_type": "markdown",
   "metadata": {},
   "source": [
    "<div class=\"alert alert-warning\">\n",
    "<strong>NOTICE! &nbsp;</strong> This body instance variable is dynamically created based on the Swagger spec.  When you introspect the variable, you may or may not see a humaized name for the resulting class.  If th Swagger spec has an 'x-model' tag assigned then you will see that name used; otherwise you will see a numberic value, as in the case below.\n",
    "</div>"
   ]
  },
  {
   "cell_type": "code",
   "execution_count": 7,
   "metadata": {},
   "outputs": [
    {
     "data": {
      "text/plain": [
       "<4441882704 custom_fields=None description=None group=None name=None role=None site=None status=None tenant=None vid=None>"
      ]
     },
     "execution_count": 7,
     "metadata": {},
     "output_type": "execute_result"
    }
   ],
   "source": [
    "rqst.data"
   ]
  },
  {
   "cell_type": "markdown",
   "metadata": {},
   "source": [
    "Alternatively, you can get a listing of the request body fields using the `keys()` method:"
   ]
  },
  {
   "cell_type": "code",
   "execution_count": 8,
   "metadata": {},
   "outputs": [
    {
     "data": {
      "text/plain": [
       "[u'status',\n",
       " u'group',\n",
       " u'name',\n",
       " u'vid',\n",
       " u'site',\n",
       " u'role',\n",
       " u'custom_fields',\n",
       " u'tenant',\n",
       " u'description']"
      ]
     },
     "execution_count": 8,
     "metadata": {},
     "output_type": "execute_result"
    }
   ],
   "source": [
    "rqst.data.keys()"
   ]
  },
  {
   "cell_type": "markdown",
   "metadata": {},
   "source": [
    "You can then assign values to these fields using the attribute.  For example, let's assign the `vid` and `name` fields."
   ]
  },
  {
   "cell_type": "code",
   "execution_count": 9,
   "metadata": {},
   "outputs": [],
   "source": [
    "rqst.data.vid = 10\n",
    "rqst.data.name = 'Purple'"
   ]
  },
  {
   "cell_type": "markdown",
   "metadata": {},
   "source": [
    "## Validating Body Data\n",
    "\n",
    "As a function of using the `python-jsonschema-objects` library, any time you assign a value the value is checked against the jsonschema to determine whether or not it's valid.  \n",
    "\n",
    "For example, if you try to assign an integer to a string field, you will get a `ValidationError` exception.  Here is such an example:"
   ]
  },
  {
   "cell_type": "code",
   "execution_count": 87,
   "metadata": {},
   "outputs": [
    {
     "name": "stdout",
     "output_type": "stream",
     "text": [
      ">>> Validation error: 'foobaz is not an integer'\n"
     ]
    }
   ],
   "source": [
    "try:\n",
    "   rqst.data.vid = \"foobaz\"     # vid should be an int, so this will raise an Exception\n",
    "except Exception as exc:\n",
    "    print \">>> Validation error: '%s'\" % exc"
   ]
  },
  {
   "cell_type": "markdown",
   "metadata": {},
   "source": [
    "You can also validate the entire body instance using the `validate()` method.  This will check all fields, and sub-fields to ensure that all of the data is valid.  For example:"
   ]
  },
  {
   "cell_type": "code",
   "execution_count": 45,
   "metadata": {},
   "outputs": [
    {
     "data": {
      "text/plain": [
       "True"
      ]
     },
     "execution_count": 45,
     "metadata": {},
     "output_type": "execute_result"
    }
   ],
   "source": [
    "rqst.data.vid = 10\n",
    "rqst.data.name = 'Purple'\n",
    "rqst.data.validate()"
   ]
  },
  {
   "cell_type": "markdown",
   "metadata": {},
   "source": [
    "## Accessing the Body as Dictionary Data\n",
    "\n",
    "If you want to access the body data as dictionary structure, you can use the `as_dict()` method.  For example:"
   ]
  },
  {
   "cell_type": "code",
   "execution_count": 46,
   "metadata": {},
   "outputs": [
    {
     "data": {
      "text/plain": [
       "{u'name': 'Purple', u'vid': 10}"
      ]
     },
     "execution_count": 46,
     "metadata": {},
     "output_type": "execute_result"
    }
   ],
   "source": [
    "rqst.data.as_dict()"
   ]
  },
  {
   "cell_type": "markdown",
   "metadata": {},
   "source": [
    "You can also treat the body instance like a dictionary, using methods such as `items()`, `keys()`, and `values()`.  For example:"
   ]
  },
  {
   "cell_type": "code",
   "execution_count": 47,
   "metadata": {},
   "outputs": [
    {
     "data": {
      "text/plain": [
       "[(u'status', None),\n",
       " (u'group', None),\n",
       " (u'name', <Literal<str> Purple>),\n",
       " (u'vid', <Literal<int> 10>),\n",
       " (u'site', None),\n",
       " (u'role', None),\n",
       " (u'custom_fields', None),\n",
       " (u'tenant', None),\n",
       " (u'description', None)]"
      ]
     },
     "execution_count": 47,
     "metadata": {},
     "output_type": "execute_result"
    }
   ],
   "source": [
    "rqst.data.items()"
   ]
  },
  {
   "cell_type": "markdown",
   "metadata": {},
   "source": [
    "<div class=\"alert alert-info\">\n",
    "<strong>Info! &nbsp;</strong>When you execute a Request, the halutz library will automatically use the body parameter as a dictionary.  You do not need to explicity convert the data to a dictionary.\n",
    "</div>"
   ]
  },
  {
   "cell_type": "markdown",
   "metadata": {},
   "source": [
    "## Introspecting the Body Fields\n",
    "\n",
    "You can introspec the body fields to see their specific schema values.  To do this, you can use the `propinfo()` method.  For example, if we wanted to know more about the `vid` field:"
   ]
  },
  {
   "cell_type": "code",
   "execution_count": 48,
   "metadata": {},
   "outputs": [
    {
     "data": {
      "text/plain": [
       "{u'description': u'', 'raw_name': u'vid', u'type': u'integer'}"
      ]
     },
     "execution_count": 48,
     "metadata": {},
     "output_type": "execute_result"
    }
   ],
   "source": [
    "rqst.data.propinfo('vid')"
   ]
  },
  {
   "cell_type": "markdown",
   "metadata": {},
   "source": [
    "You can also introspect the field type.  To do this you use the `proptype()` method.  For example:"
   ]
  },
  {
   "cell_type": "code",
   "execution_count": 49,
   "metadata": {},
   "outputs": [
    {
     "data": {
      "text/plain": [
       "int"
      ]
     },
     "execution_count": 49,
     "metadata": {},
     "output_type": "execute_result"
    }
   ],
   "source": [
    "rqst.data.proptype('vid')"
   ]
  },
  {
   "cell_type": "markdown",
   "metadata": {},
   "source": [
    "You can also get the complete Swagger schema specification using the special `__propinfo__` attribute.  For example:"
   ]
  },
  {
   "cell_type": "code",
   "execution_count": 50,
   "metadata": {},
   "outputs": [
    {
     "data": {
      "text/plain": [
       "{u'custom_fields': {u'description': u'',\n",
       "  'raw_name': u'custom_fields',\n",
       "  u'type': u'string'},\n",
       " u'description': {u'description': u'',\n",
       "  'raw_name': u'description',\n",
       "  u'type': u'string'},\n",
       " u'group': {u'description': u'', 'raw_name': u'group', u'type': u'string'},\n",
       " u'name': {u'description': u'', 'raw_name': u'name', u'type': u'string'},\n",
       " u'role': {u'description': u'', 'raw_name': u'role', u'type': u'string'},\n",
       " u'site': {u'description': u'', 'raw_name': u'site', u'type': u'string'},\n",
       " u'status': {u'description': u'', 'raw_name': u'status', u'type': u'string'},\n",
       " u'tenant': {u'description': u'', 'raw_name': u'tenant', u'type': u'string'},\n",
       " u'vid': {u'description': u'', 'raw_name': u'vid', u'type': u'integer'}}"
      ]
     },
     "execution_count": 50,
     "metadata": {},
     "output_type": "execute_result"
    }
   ],
   "source": [
    "rqst.data.__propinfo__"
   ]
  },
  {
   "cell_type": "markdown",
   "metadata": {},
   "source": [
    "## Nested Body Schema Fields\n",
    "\n",
    "You may encounter body schemas that have deeply nested data structures - lists of objects, objects of objects, etc.  In these cases, you can assign these fields in one of two ways.  The first way is to make the assignment using a native python structures of lists and dictionaries.  The second way is to create an instance of the sub-field type."
   ]
  },
  {
   "cell_type": "markdown",
   "metadata": {},
   "source": [
    "### When Body Field is a Dict (object)\n",
    "To demonstrate this, we will load an example schema with a nested structure."
   ]
  },
  {
   "cell_type": "code",
   "execution_count": 74,
   "metadata": {},
   "outputs": [],
   "source": [
    "schema = json.load(open('nested-schema.json'))"
   ]
  },
  {
   "cell_type": "code",
   "execution_count": 75,
   "metadata": {},
   "outputs": [
    {
     "name": "stdout",
     "output_type": "stream",
     "text": [
      "{\n",
      "  \"x-model\": \"Example\", \n",
      "  \"type\": \"object\", \n",
      "  \"properties\": {\n",
      "    \"port_speed\": {\n",
      "      \"required\": [\n",
      "        \"value\", \n",
      "        \"unit\"\n",
      "      ], \n",
      "      \"type\": \"object\", \n",
      "      \"properties\": {\n",
      "        \"value\": {\n",
      "          \"enum\": [\n",
      "            0, \n",
      "            1, \n",
      "            100, \n",
      "            40, \n",
      "            10, \n",
      "            50, \n",
      "            25\n",
      "          ], \n",
      "          \"type\": \"integer\", \n",
      "          \"description\": \"scalar multiplier for the speed of the port\", \n",
      "          \"format\": \"int32\"\n",
      "        }, \n",
      "        \"unit\": {\n",
      "          \"enum\": [\n",
      "            \"\", \n",
      "            \"M\", \n",
      "            \"G\"\n",
      "          ], \n",
      "          \"type\": \"string\", \n",
      "          \"description\": \"Indicates if 'value' is in units of Gbps or Mbps\"\n",
      "        }\n",
      "      }\n",
      "    }\n",
      "  }\n",
      "}\n"
     ]
    }
   ],
   "source": [
    "print json.dumps(schema, indent=2)"
   ]
  },
  {
   "cell_type": "markdown",
   "metadata": {},
   "source": [
    "<div class=\"alert alert-warning\">\n",
    "<strong>NOTICE! &nbsp;</strong> As part of the halutz client, there is a schema class factory called `build`.  You generally would not need to use this as a part of normal Request usage.  I'm using this here simply to do the same meta-class creation that the is done when a Request with a body parameter is created.\n",
    "</div>\n",
    "\n"
   ]
  },
  {
   "cell_type": "code",
   "execution_count": 76,
   "metadata": {},
   "outputs": [],
   "source": [
    "ExampleType = client.build.schema_class(schema, schema['x-model'])"
   ]
  },
  {
   "cell_type": "code",
   "execution_count": 77,
   "metadata": {},
   "outputs": [
    {
     "data": {
      "text/plain": [
       "abc.Example"
      ]
     },
     "execution_count": 77,
     "metadata": {},
     "output_type": "execute_result"
    }
   ],
   "source": [
    "ExampleType"
   ]
  },
  {
   "cell_type": "code",
   "execution_count": 78,
   "metadata": {},
   "outputs": [],
   "source": [
    "example = ExampleType()"
   ]
  },
  {
   "cell_type": "code",
   "execution_count": 79,
   "metadata": {},
   "outputs": [
    {
     "data": {
      "text/plain": [
       "[u'port_speed']"
      ]
     },
     "execution_count": 79,
     "metadata": {},
     "output_type": "execute_result"
    }
   ],
   "source": [
    "example.keys()"
   ]
  },
  {
   "cell_type": "markdown",
   "metadata": {},
   "source": [
    "The `port_speed` is a nested object, which we can see by introspection:"
   ]
  },
  {
   "cell_type": "code",
   "execution_count": 80,
   "metadata": {},
   "outputs": [
    {
     "data": {
      "text/plain": [
       "{u'properties': {u'unit': {u'description': u\"Indicates if 'value' is in units of Gbps or Mbps\",\n",
       "   u'enum': [u'', u'M', u'G'],\n",
       "   'raw_name': u'unit',\n",
       "   u'type': u'string'},\n",
       "  u'value': {u'description': u'scalar multiplier for the speed of the port',\n",
       "   u'enum': [0, 1, 100, 40, 10, 50, 25],\n",
       "   u'format': u'int32',\n",
       "   'raw_name': u'value',\n",
       "   u'type': u'integer'}},\n",
       " 'raw_name': u'port_speed',\n",
       " u'required': [u'value', u'unit'],\n",
       " u'type': abc.port_speed_<anonymous>}"
      ]
     },
     "execution_count": 80,
     "metadata": {},
     "output_type": "execute_result"
    }
   ],
   "source": [
    "example.propinfo('port_speed')"
   ]
  },
  {
   "cell_type": "markdown",
   "metadata": {},
   "source": [
    "Now we could assign the port_speed in one of two ways.  The first is using a native python dictionary:"
   ]
  },
  {
   "cell_type": "code",
   "execution_count": 81,
   "metadata": {},
   "outputs": [],
   "source": [
    "example.port_speed = dict(unit='G', value=40)"
   ]
  },
  {
   "cell_type": "markdown",
   "metadata": {},
   "source": [
    "Or we could obtain a meta-class of the port_speed type and use that.  For example:"
   ]
  },
  {
   "cell_type": "code",
   "execution_count": 82,
   "metadata": {},
   "outputs": [],
   "source": [
    "PortSpeedType = example.proptype('port_speed')"
   ]
  },
  {
   "cell_type": "code",
   "execution_count": 83,
   "metadata": {},
   "outputs": [],
   "source": [
    "example.port_speed = PortSpeedType(unit='G', value=40)"
   ]
  },
  {
   "cell_type": "markdown",
   "metadata": {},
   "source": [
    "And now we can introspect the data as a dictionary to see that this approach is equivalent to the native python approach:"
   ]
  },
  {
   "cell_type": "code",
   "execution_count": 84,
   "metadata": {},
   "outputs": [
    {
     "data": {
      "text/plain": [
       "{u'port_speed': {u'unit': 'G', u'value': 40}}"
      ]
     },
     "execution_count": 84,
     "metadata": {},
     "output_type": "execute_result"
    }
   ],
   "source": [
    "example.as_dict()"
   ]
  },
  {
   "cell_type": "markdown",
   "metadata": {},
   "source": [
    "So which approach should you use -- native python or jsonschema-typed?  The end results are equivalent.  The benefit of using the jsonschema-typed approach are twofold.  First, if you are using the halutz client interactively, you can continue to introspect and assign values as you go along.  Second, the jsonschema-typed approach ensures that your data is validated as you naviagte nested structures.  This approach is easier to debug and troubleshoot as you use the IPython shell."
   ]
  },
  {
   "cell_type": "markdown",
   "metadata": {},
   "source": [
    "### When Body Field is a List (array)\n",
    "\n",
    "Sometimes you may be working with a nested schema that has lists of objects.  For example the following is a schema that has a toplevel field called \"interfaces\".  This \"interfaces\" is a list of objects, each object having an interface-name (if_name) and a port-speed.  The port-speed is also an object."
   ]
  },
  {
   "cell_type": "code",
   "execution_count": 85,
   "metadata": {},
   "outputs": [
    {
     "name": "stdout",
     "output_type": "stream",
     "text": [
      "{\n",
      "  \"x-model\": \"ListExampleType\", \n",
      "  \"type\": \"object\", \n",
      "  \"properties\": {\n",
      "    \"interfaces\": {\n",
      "      \"items\": {\n",
      "        \"type\": \"object\", \n",
      "        \"properties\": {\n",
      "          \"if_name\": {\n",
      "            \"type\": \"string\"\n",
      "          }, \n",
      "          \"port_speed\": {\n",
      "            \"required\": [\n",
      "              \"value\", \n",
      "              \"unit\"\n",
      "            ], \n",
      "            \"type\": \"object\", \n",
      "            \"properties\": {\n",
      "              \"value\": {\n",
      "                \"enum\": [\n",
      "                  0, \n",
      "                  1, \n",
      "                  100, \n",
      "                  40, \n",
      "                  10, \n",
      "                  50, \n",
      "                  25\n",
      "                ], \n",
      "                \"type\": \"integer\", \n",
      "                \"description\": \"scalar multiplier for the speed of the port\", \n",
      "                \"format\": \"int32\"\n",
      "              }, \n",
      "              \"unit\": {\n",
      "                \"enum\": [\n",
      "                  \"\", \n",
      "                  \"M\", \n",
      "                  \"G\"\n",
      "                ], \n",
      "                \"type\": \"string\", \n",
      "                \"description\": \"Indicates if 'value' is in units of Gbps or Mbps\"\n",
      "              }\n",
      "            }\n",
      "          }\n",
      "        }\n",
      "      }, \n",
      "      \"type\": \"array\"\n",
      "    }\n",
      "  }\n",
      "}\n"
     ]
    }
   ],
   "source": [
    "schema = json.load(open(\"listof-nested-schema.json\"))\n",
    "print json.dumps(schema, indent=2)"
   ]
  },
  {
   "cell_type": "markdown",
   "metadata": {},
   "source": [
    "In these situations, when you make a call to `proptype` you are getting back the class for an item within the list.  For example:"
   ]
  },
  {
   "cell_type": "code",
   "execution_count": 88,
   "metadata": {},
   "outputs": [],
   "source": [
    "ListExampleType = client.build.schema_class(schema, schema['x-model'])"
   ]
  },
  {
   "cell_type": "code",
   "execution_count": 89,
   "metadata": {},
   "outputs": [],
   "source": [
    "item = ListExampleType()"
   ]
  },
  {
   "cell_type": "code",
   "execution_count": 90,
   "metadata": {},
   "outputs": [
    {
     "data": {
      "text/plain": [
       "[u'interfaces']"
      ]
     },
     "execution_count": 90,
     "metadata": {},
     "output_type": "execute_result"
    }
   ],
   "source": [
    "item.keys()"
   ]
  },
  {
   "cell_type": "code",
   "execution_count": 91,
   "metadata": {},
   "outputs": [],
   "source": [
    "InterfaceType = item.proptype('interfaces')"
   ]
  },
  {
   "cell_type": "code",
   "execution_count": 92,
   "metadata": {},
   "outputs": [],
   "source": [
    "an_interface = InterfaceType()"
   ]
  },
  {
   "cell_type": "markdown",
   "metadata": {},
   "source": [
    "Now when we introspect an instance of this list item, we can see the fields: if_name and port_speed."
   ]
  },
  {
   "cell_type": "code",
   "execution_count": 94,
   "metadata": {},
   "outputs": [
    {
     "data": {
      "text/plain": [
       "<interfaces_<anonymous_field> if_name=None port_speed=None>"
      ]
     },
     "execution_count": 94,
     "metadata": {},
     "output_type": "execute_result"
    }
   ],
   "source": [
    "an_interface"
   ]
  },
  {
   "cell_type": "markdown",
   "metadata": {},
   "source": [
    "To add the interface to the `interfaces` list. You can make an assignment as the complete list, for example:"
   ]
  },
  {
   "cell_type": "code",
   "execution_count": 98,
   "metadata": {},
   "outputs": [
    {
     "name": "stdout",
     "output_type": "stream",
     "text": [
      "{\n",
      "  \"interfaces\": [\n",
      "    {\n",
      "      \"if_name\": \"eth1\", \n",
      "      \"port_speed\": {\n",
      "        \"value\": 40, \n",
      "        \"unit\": \"G\"\n",
      "      }\n",
      "    }\n",
      "  ]\n",
      "}\n"
     ]
    }
   ],
   "source": [
    "an_interface.if_name = 'eth1'\n",
    "an_interface.port_speed = dict(unit='G', value=40)\n",
    "\n",
    "item.interfaces = [an_interface]\n",
    "\n",
    "print json.dumps(item.as_dict(), indent=2)"
   ]
  },
  {
   "cell_type": "markdown",
   "metadata": {},
   "source": [
    "Alternatively, you could initialize the `interfaces` list to an empty list, and then append items as you go along.  For example:"
   ]
  },
  {
   "cell_type": "code",
   "execution_count": 105,
   "metadata": {},
   "outputs": [],
   "source": [
    "item.interfaces = []"
   ]
  },
  {
   "cell_type": "code",
   "execution_count": 106,
   "metadata": {},
   "outputs": [],
   "source": [
    "item.interfaces.append(an_interface)\n",
    "\n",
    "# add another interface using the InterfaceType, just to show this example\n",
    "\n",
    "item.interfaces.append(InterfaceType(if_name='eth2', port_speed=dict(unit='G', value=10)))"
   ]
  },
  {
   "cell_type": "code",
   "execution_count": 107,
   "metadata": {},
   "outputs": [
    {
     "name": "stdout",
     "output_type": "stream",
     "text": [
      "{\n",
      "  \"interfaces\": [\n",
      "    {\n",
      "      \"if_name\": \"eth1\", \n",
      "      \"port_speed\": {\n",
      "        \"value\": 40, \n",
      "        \"unit\": \"G\"\n",
      "      }\n",
      "    }, \n",
      "    {\n",
      "      \"if_name\": \"eth2\", \n",
      "      \"port_speed\": {\n",
      "        \"value\": 10, \n",
      "        \"unit\": \"G\"\n",
      "      }\n",
      "    }\n",
      "  ]\n",
      "}\n"
     ]
    }
   ],
   "source": [
    "print json.dumps(item.as_dict(), indent=2)"
   ]
  },
  {
   "cell_type": "markdown",
   "metadata": {},
   "source": [
    "## Executing a Request with Body Parameters"
   ]
  },
  {
   "cell_type": "markdown",
   "metadata": {},
   "source": [
    "Again is should be noted that when you are using a Request that has a body parameter, you **DO NOT** need to pass that parameter on the Request call.  For example, if we wanted to create a new VLAN."
   ]
  },
  {
   "cell_type": "code",
   "execution_count": 86,
   "metadata": {},
   "outputs": [],
   "source": [
    "rqst = client.request.ipam.ipam_vlans_create\n",
    "\n",
    "rqst.data.vid = 1001\n",
    "rqst.data.name = \"Marketing\"\n",
    "rqst.data.validate()\n",
    "\n",
    "# execute the request; it knows to use the body parameter so you don't need to \n",
    "# pass it explicity\n",
    "\n",
    "resp, ok = rqst()"
   ]
  },
  {
   "cell_type": "markdown",
   "metadata": {},
   "source": [
    "# Next Topics\n",
    "\n",
    "  - <a href=\"Request-Responses.ipynb\">Learn to work with Request responses</a>"
   ]
  },
  {
   "cell_type": "code",
   "execution_count": null,
   "metadata": {},
   "outputs": [],
   "source": []
  }
 ],
 "metadata": {
  "kernelspec": {
   "display_name": "Python 2",
   "language": "python",
   "name": "python2"
  },
  "language_info": {
   "codemirror_mode": {
    "name": "ipython",
    "version": 2
   },
   "file_extension": ".py",
   "mimetype": "text/x-python",
   "name": "python",
   "nbconvert_exporter": "python",
   "pygments_lexer": "ipython2",
   "version": "2.7.10"
  },
  "toc": {
   "nav_menu": {},
   "number_sections": true,
   "sideBar": true,
   "skip_h1_title": false,
   "toc_cell": false,
   "toc_position": {
    "height": "1078px",
    "left": "0px",
    "right": "1111px",
    "top": "111px",
    "width": "212px"
   },
   "toc_section_display": "block",
   "toc_window_display": true
  }
 },
 "nbformat": 4,
 "nbformat_minor": 2
}
