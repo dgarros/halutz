{
 "cells": [
  {
   "cell_type": "markdown",
   "metadata": {},
   "source": [
    "# Working with Request Body Parameters\n",
    "\n",
    "One of the more challenging aspects of using an API is know what data is required, and whether or not you are proving *valid* data.  The halutz client will use the Swagger spec to validate your requests.  In truth, the halutz library is using the [python-jsonschema-objects](https://github.com/cwacek/python-jsonschema-objects) library for this function.  The halutz client adds some helpers as well.  Let's begin with first creating a client instance:"
   ]
  },
  {
   "cell_type": "code",
   "execution_count": 1,
   "metadata": {},
   "outputs": [],
   "source": [
    "# %load docs_client.py\n",
    "from halutz.client import Client\n",
    "import json\n",
    "\n",
    "base_url = 'http://localhost:32768'\n",
    "swagger_spec = json.load(open('swagger_spec.json'))\n",
    "\n",
    "client = Client(base_url=base_url, spec_dict=swagger_spec)\n"
   ]
  },
  {
   "cell_type": "markdown",
   "metadata": {},
   "source": [
    "## Requests with Body Parameters\n",
    "\n",
    "Not all Requests have body parameters.  You can easily tell by checking the Request `body_param` attribute.  For example, this request does not have a body parameter:"
   ]
  },
  {
   "cell_type": "code",
   "execution_count": 2,
   "metadata": {},
   "outputs": [
    {
     "name": "stdout",
     "output_type": "stream",
     "text": [
      "None\n"
     ]
    }
   ],
   "source": [
    "rqst = client.request.ipam.ipam_vlans_list\n",
    "print rqst.body_param"
   ]
  },
  {
   "cell_type": "markdown",
   "metadata": {},
   "source": [
    "Now let's use a Request that does have a body parameter"
   ]
  },
  {
   "cell_type": "code",
   "execution_count": 3,
   "metadata": {},
   "outputs": [
    {
     "name": "stdout",
     "output_type": "stream",
     "text": [
      "data\n"
     ]
    }
   ],
   "source": [
    "rqst = client.request.ipam.ipam_vlans_create\n",
    "print rqst.body_param"
   ]
  },
  {
   "cell_type": "markdown",
   "metadata": {},
   "source": [
    "Here we can see the request has a body parameter called `data`.  We can introspect the request as well:"
   ]
  },
  {
   "cell_type": "code",
   "execution_count": 4,
   "metadata": {},
   "outputs": [
    {
     "data": {
      "text/plain": [
       "Request: {\n",
       "   \"path\": \"/api/ipam/vlans/\", \n",
       "   \"params\": [\n",
       "      \"data\"\n",
       "   ], \n",
       "   \"method\": \"post\"\n",
       "}"
      ]
     },
     "execution_count": 4,
     "metadata": {},
     "output_type": "execute_result"
    }
   ],
   "source": [
    "rqst"
   ]
  },
  {
   "cell_type": "code",
   "execution_count": 5,
   "metadata": {},
   "outputs": [
    {
     "data": {
      "text/plain": [
       "{u'in': u'body',\n",
       " u'name': u'data',\n",
       " u'schema': {u'properties': {u'custom_fields': {u'description': u'',\n",
       "    u'type': u'string'},\n",
       "   u'description': {u'description': u'', u'type': u'string'},\n",
       "   u'group': {u'description': u'', u'type': u'string'},\n",
       "   u'name': {u'description': u'', u'type': u'string'},\n",
       "   u'role': {u'description': u'', u'type': u'string'},\n",
       "   u'site': {u'description': u'', u'type': u'string'},\n",
       "   u'status': {u'description': u'', u'type': u'string'},\n",
       "   u'tenant': {u'description': u'', u'type': u'string'},\n",
       "   u'vid': {u'description': u'', u'type': u'integer'}},\n",
       "  u'required': [u'vid', u'name'],\n",
       "  u'type': u'object'}}"
      ]
     },
     "execution_count": 5,
     "metadata": {},
     "output_type": "execute_result"
    }
   ],
   "source": [
    "rqst.params[rqst.body_param].param_spec"
   ]
  },
  {
   "cell_type": "markdown",
   "metadata": {},
   "source": [
    "## Accessing the Body Attribute\n",
    "\n",
    "When the halutz library provides you the Request instance it will automically add the body parameter as an attribute.  In the above example, the request instance would have another attribute called `data`.  "
   ]
  },
  {
   "cell_type": "markdown",
   "metadata": {},
   "source": [
    "<div class=\"alert alert-warning\">\n",
    "<strong>NOTICE! &nbsp;</strong> This body instance variable is dynamically created based on the Swagger spec.  When you introspect the variable, you may or may not see a humaized name for the resulting class.  If th Swagger spec has an 'x-model' tag assigned then you will see that name used; otherwise you will see a numberic value, as in the case below.\n",
    "</div>"
   ]
  },
  {
   "cell_type": "code",
   "execution_count": 6,
   "metadata": {},
   "outputs": [
    {
     "data": {
      "text/plain": [
       "<4490955584 custom_fields=None description=None group=None name=None role=None site=None status=None tenant=None vid=None>"
      ]
     },
     "execution_count": 6,
     "metadata": {},
     "output_type": "execute_result"
    }
   ],
   "source": [
    "rqst.data"
   ]
  },
  {
   "cell_type": "markdown",
   "metadata": {},
   "source": [
    "Alternatively, you can get a listing of the request body fields using the `keys()` method:"
   ]
  },
  {
   "cell_type": "code",
   "execution_count": 7,
   "metadata": {},
   "outputs": [
    {
     "data": {
      "text/plain": [
       "[u'status',\n",
       " u'group',\n",
       " u'name',\n",
       " u'vid',\n",
       " u'site',\n",
       " u'role',\n",
       " u'custom_fields',\n",
       " u'tenant',\n",
       " u'description']"
      ]
     },
     "execution_count": 7,
     "metadata": {},
     "output_type": "execute_result"
    }
   ],
   "source": [
    "rqst.data.keys()"
   ]
  },
  {
   "cell_type": "markdown",
   "metadata": {},
   "source": [
    "You can then assign values to these fields using the attribute.  For example, let's assign the `vid` and `name` fields."
   ]
  },
  {
   "cell_type": "code",
   "execution_count": 8,
   "metadata": {},
   "outputs": [],
   "source": [
    "rqst.data.vid = 10\n",
    "rqst.data.name = 'Purple'"
   ]
  },
  {
   "cell_type": "markdown",
   "metadata": {},
   "source": [
    "## Validating Body Data\n",
    "\n",
    "As a function of using the `python-jsonschema-objects` library, any time you assign a value the value is checked against the jsonschema to determine whether or not it's valid.  \n",
    "\n",
    "For example, if you try to assign an integer to a string field, you will get a `ValidationError` exception.  Here is such an example:"
   ]
  },
  {
   "cell_type": "code",
   "execution_count": 9,
   "metadata": {},
   "outputs": [
    {
     "ename": "ValidationError",
     "evalue": "foobaz is not an integer",
     "output_type": "error",
     "traceback": [
      "\u001b[0;31m---------------------------------------------------------------------------\u001b[0m",
      "\u001b[0;31mValidationError\u001b[0m                           Traceback (most recent call last)",
      "\u001b[0;32m<ipython-input-9-de1af8da4b86>\u001b[0m in \u001b[0;36m<module>\u001b[0;34m()\u001b[0m\n\u001b[0;32m----> 1\u001b[0;31m \u001b[0mrqst\u001b[0m\u001b[0;34m.\u001b[0m\u001b[0mdata\u001b[0m\u001b[0;34m.\u001b[0m\u001b[0mvid\u001b[0m \u001b[0;34m=\u001b[0m \u001b[0;34m\"foobaz\"\u001b[0m     \u001b[0;31m# vid should be an int, so this will raise an Exception\u001b[0m\u001b[0;34m\u001b[0m\u001b[0m\n\u001b[0m",
      "\u001b[0;32m/Users/jeremy/Projects/netbox/venv/lib/python2.7/site-packages/python_jsonschema_objects-0.3.1-py2.7.egg/python_jsonschema_objects/classbuilder.pyc\u001b[0m in \u001b[0;36m__setattr__\u001b[0;34m(self, name, val)\u001b[0m\n\u001b[1;32m    228\u001b[0m             \u001b[0;31m# it directly. XXX Heinous.\u001b[0m\u001b[0;34m\u001b[0m\u001b[0;34m\u001b[0m\u001b[0m\n\u001b[1;32m    229\u001b[0m             \u001b[0mprop\u001b[0m \u001b[0;34m=\u001b[0m \u001b[0mgetattr\u001b[0m\u001b[0;34m(\u001b[0m\u001b[0mself\u001b[0m\u001b[0;34m.\u001b[0m\u001b[0m__class__\u001b[0m\u001b[0;34m,\u001b[0m \u001b[0mself\u001b[0m\u001b[0;34m.\u001b[0m\u001b[0m__prop_names__\u001b[0m\u001b[0;34m[\u001b[0m\u001b[0mname\u001b[0m\u001b[0;34m]\u001b[0m\u001b[0;34m)\u001b[0m\u001b[0;34m\u001b[0m\u001b[0m\n\u001b[0;32m--> 230\u001b[0;31m             \u001b[0mprop\u001b[0m\u001b[0;34m.\u001b[0m\u001b[0mfset\u001b[0m\u001b[0;34m(\u001b[0m\u001b[0mself\u001b[0m\u001b[0;34m,\u001b[0m \u001b[0mval\u001b[0m\u001b[0;34m)\u001b[0m\u001b[0;34m\u001b[0m\u001b[0m\n\u001b[0m\u001b[1;32m    231\u001b[0m         \u001b[0;32melse\u001b[0m\u001b[0;34m:\u001b[0m\u001b[0;34m\u001b[0m\u001b[0m\n\u001b[1;32m    232\u001b[0m             \u001b[0;31m# This is an additional property of some kind\u001b[0m\u001b[0;34m\u001b[0m\u001b[0;34m\u001b[0m\u001b[0m\n",
      "\u001b[0;32m/Users/jeremy/Projects/netbox/venv/lib/python2.7/site-packages/python_jsonschema_objects-0.3.1-py2.7.egg/python_jsonschema_objects/classbuilder.pyc\u001b[0m in \u001b[0;36msetprop\u001b[0;34m(self, val)\u001b[0m\n\u001b[1;32m    806\u001b[0m         \u001b[0;32melif\u001b[0m \u001b[0mgetattr\u001b[0m\u001b[0;34m(\u001b[0m\u001b[0minfo\u001b[0m\u001b[0;34m[\u001b[0m\u001b[0;34m'type'\u001b[0m\u001b[0;34m]\u001b[0m\u001b[0;34m,\u001b[0m \u001b[0;34m'isLiteralClass'\u001b[0m\u001b[0;34m,\u001b[0m \u001b[0mFalse\u001b[0m\u001b[0;34m)\u001b[0m \u001b[0;32mis\u001b[0m \u001b[0mTrue\u001b[0m\u001b[0;34m:\u001b[0m\u001b[0;34m\u001b[0m\u001b[0m\n\u001b[1;32m    807\u001b[0m             \u001b[0;32mif\u001b[0m \u001b[0;32mnot\u001b[0m \u001b[0misinstance\u001b[0m\u001b[0;34m(\u001b[0m\u001b[0mval\u001b[0m\u001b[0;34m,\u001b[0m \u001b[0minfo\u001b[0m\u001b[0;34m[\u001b[0m\u001b[0;34m'type'\u001b[0m\u001b[0;34m]\u001b[0m\u001b[0;34m)\u001b[0m\u001b[0;34m:\u001b[0m\u001b[0;34m\u001b[0m\u001b[0m\n\u001b[0;32m--> 808\u001b[0;31m                 \u001b[0mvalidator\u001b[0m \u001b[0;34m=\u001b[0m \u001b[0minfo\u001b[0m\u001b[0;34m[\u001b[0m\u001b[0;34m'type'\u001b[0m\u001b[0;34m]\u001b[0m\u001b[0;34m(\u001b[0m\u001b[0mval\u001b[0m\u001b[0;34m)\u001b[0m\u001b[0;34m\u001b[0m\u001b[0m\n\u001b[0m\u001b[1;32m    809\u001b[0m                 \u001b[0mvalidator\u001b[0m\u001b[0;34m.\u001b[0m\u001b[0mvalidate\u001b[0m\u001b[0;34m(\u001b[0m\u001b[0;34m)\u001b[0m\u001b[0;34m\u001b[0m\u001b[0m\n\u001b[1;32m    810\u001b[0m                 \u001b[0;32mif\u001b[0m \u001b[0mvalidator\u001b[0m\u001b[0;34m.\u001b[0m\u001b[0m_value\u001b[0m \u001b[0;32mis\u001b[0m \u001b[0;32mnot\u001b[0m \u001b[0mNone\u001b[0m\u001b[0;34m:\u001b[0m\u001b[0;34m\u001b[0m\u001b[0m\n",
      "\u001b[0;32m/Users/jeremy/Projects/netbox/venv/lib/python2.7/site-packages/python_jsonschema_objects-0.3.1-py2.7.egg/python_jsonschema_objects/literals.pyc\u001b[0m in \u001b[0;36m__init__\u001b[0;34m(self, value, typ)\u001b[0m\n\u001b[1;32m     38\u001b[0m           \u001b[0mself\u001b[0m\u001b[0;34m.\u001b[0m\u001b[0m_value\u001b[0m \u001b[0;34m=\u001b[0m \u001b[0mself\u001b[0m\u001b[0;34m.\u001b[0m\u001b[0mdefault\u001b[0m\u001b[0;34m(\u001b[0m\u001b[0;34m)\u001b[0m\u001b[0;34m\u001b[0m\u001b[0m\n\u001b[1;32m     39\u001b[0m \u001b[0;34m\u001b[0m\u001b[0m\n\u001b[0;32m---> 40\u001b[0;31m       \u001b[0mself\u001b[0m\u001b[0;34m.\u001b[0m\u001b[0mvalidate\u001b[0m\u001b[0;34m(\u001b[0m\u001b[0;34m)\u001b[0m\u001b[0;34m\u001b[0m\u001b[0m\n\u001b[0m\u001b[1;32m     41\u001b[0m \u001b[0;34m\u001b[0m\u001b[0m\n\u001b[1;32m     42\u001b[0m   \u001b[0;32mdef\u001b[0m \u001b[0mas_dict\u001b[0m\u001b[0;34m(\u001b[0m\u001b[0mself\u001b[0m\u001b[0;34m)\u001b[0m\u001b[0;34m:\u001b[0m\u001b[0;34m\u001b[0m\u001b[0m\n",
      "\u001b[0;32m/Users/jeremy/Projects/netbox/venv/lib/python2.7/site-packages/python_jsonschema_objects-0.3.1-py2.7.egg/python_jsonschema_objects/literals.pyc\u001b[0m in \u001b[0;36mvalidate\u001b[0;34m(self)\u001b[0m\n\u001b[1;32m     80\u001b[0m           \u001b[0mvalidator\u001b[0m \u001b[0;34m=\u001b[0m \u001b[0mvalidators\u001b[0m\u001b[0;34m.\u001b[0m\u001b[0mregistry\u001b[0m\u001b[0;34m(\u001b[0m\u001b[0mparam\u001b[0m\u001b[0;34m)\u001b[0m\u001b[0;34m\u001b[0m\u001b[0m\n\u001b[1;32m     81\u001b[0m           \u001b[0;32mif\u001b[0m \u001b[0mvalidator\u001b[0m \u001b[0;32mis\u001b[0m \u001b[0;32mnot\u001b[0m \u001b[0mNone\u001b[0m\u001b[0;34m:\u001b[0m\u001b[0;34m\u001b[0m\u001b[0m\n\u001b[0;32m---> 82\u001b[0;31m               \u001b[0mvalidator\u001b[0m\u001b[0;34m(\u001b[0m\u001b[0mparamval\u001b[0m\u001b[0;34m,\u001b[0m \u001b[0mself\u001b[0m\u001b[0;34m.\u001b[0m\u001b[0m_value\u001b[0m\u001b[0;34m,\u001b[0m \u001b[0minfo\u001b[0m\u001b[0;34m)\u001b[0m\u001b[0;34m\u001b[0m\u001b[0m\n\u001b[0m\u001b[1;32m     83\u001b[0m \u001b[0;34m\u001b[0m\u001b[0m\n\u001b[1;32m     84\u001b[0m   \u001b[0;32mdef\u001b[0m \u001b[0m__eq__\u001b[0m\u001b[0;34m(\u001b[0m\u001b[0mself\u001b[0m\u001b[0;34m,\u001b[0m \u001b[0mother\u001b[0m\u001b[0;34m)\u001b[0m\u001b[0;34m:\u001b[0m\u001b[0;34m\u001b[0m\u001b[0m\n",
      "\u001b[0;32m/Users/jeremy/Projects/netbox/venv/lib/python2.7/site-packages/python_jsonschema_objects-0.3.1-py2.7.egg/python_jsonschema_objects/validators.pyc\u001b[0m in \u001b[0;36mcheck_type\u001b[0;34m(param, value, type_data)\u001b[0m\n\u001b[1;32m    165\u001b[0m         raise ValidationError(\n\u001b[1;32m    166\u001b[0m             \"{0} is an invalid type\".format(value))\n\u001b[0;32m--> 167\u001b[0;31m     \u001b[0mtype_check\u001b[0m\u001b[0;34m(\u001b[0m\u001b[0mparam\u001b[0m\u001b[0;34m,\u001b[0m \u001b[0mvalue\u001b[0m\u001b[0;34m,\u001b[0m \u001b[0mtype_data\u001b[0m\u001b[0;34m)\u001b[0m\u001b[0;34m\u001b[0m\u001b[0m\n\u001b[0m\u001b[1;32m    168\u001b[0m \u001b[0;34m\u001b[0m\u001b[0m\n\u001b[1;32m    169\u001b[0m \u001b[0;34m\u001b[0m\u001b[0m\n",
      "\u001b[0;32m/Users/jeremy/Projects/netbox/venv/lib/python2.7/site-packages/python_jsonschema_objects-0.3.1-py2.7.egg/python_jsonschema_objects/validators.pyc\u001b[0m in \u001b[0;36mcheck_integer_type\u001b[0;34m(param, value, _)\u001b[0m\n\u001b[1;32m    126\u001b[0m     \u001b[0;32mif\u001b[0m \u001b[0;32mnot\u001b[0m \u001b[0misinstance\u001b[0m\u001b[0;34m(\u001b[0m\u001b[0mvalue\u001b[0m\u001b[0;34m,\u001b[0m \u001b[0mint\u001b[0m\u001b[0;34m)\u001b[0m \u001b[0;32mor\u001b[0m \u001b[0misinstance\u001b[0m\u001b[0;34m(\u001b[0m\u001b[0mvalue\u001b[0m\u001b[0;34m,\u001b[0m \u001b[0mbool\u001b[0m\u001b[0;34m)\u001b[0m\u001b[0;34m:\u001b[0m\u001b[0;34m\u001b[0m\u001b[0m\n\u001b[1;32m    127\u001b[0m         raise ValidationError(\n\u001b[0;32m--> 128\u001b[0;31m             \"{0} is not an integer\".format(value))\n\u001b[0m\u001b[1;32m    129\u001b[0m \u001b[0;34m\u001b[0m\u001b[0m\n\u001b[1;32m    130\u001b[0m \u001b[0;34m@\u001b[0m\u001b[0mtype_registry\u001b[0m\u001b[0;34m.\u001b[0m\u001b[0mregister\u001b[0m\u001b[0;34m(\u001b[0m\u001b[0mname\u001b[0m\u001b[0;34m=\u001b[0m\u001b[0;34m'number'\u001b[0m\u001b[0;34m)\u001b[0m\u001b[0;34m\u001b[0m\u001b[0m\n",
      "\u001b[0;31mValidationError\u001b[0m: foobaz is not an integer"
     ]
    }
   ],
   "source": [
    "rqst.data.vid = \"foobaz\"     # vid should be an int, so this will raise an Exception"
   ]
  },
  {
   "cell_type": "markdown",
   "metadata": {},
   "source": [
    "You can also validate the entire body instance using the `validate()` method.  This will check all fields, and sub-fields to ensure that all of the data is valid.  For example:"
   ]
  },
  {
   "cell_type": "code",
   "execution_count": 10,
   "metadata": {},
   "outputs": [
    {
     "data": {
      "text/plain": [
       "True"
      ]
     },
     "execution_count": 10,
     "metadata": {},
     "output_type": "execute_result"
    }
   ],
   "source": [
    "rqst.data.vid = 10\n",
    "rqst.data.name = 'Purple'\n",
    "rqst.data.validate()"
   ]
  },
  {
   "cell_type": "markdown",
   "metadata": {},
   "source": [
    "## Getting the Body Data\n",
    "\n",
    "If you want to access the body data as dictionary structure, you can use the `as_dict()` method.  For example:"
   ]
  },
  {
   "cell_type": "code",
   "execution_count": 11,
   "metadata": {},
   "outputs": [
    {
     "data": {
      "text/plain": [
       "{u'name': 'Purple', u'vid': 10}"
      ]
     },
     "execution_count": 11,
     "metadata": {},
     "output_type": "execute_result"
    }
   ],
   "source": [
    "rqst.data.as_dict()"
   ]
  },
  {
   "cell_type": "markdown",
   "metadata": {},
   "source": [
    "You can also treat the body instance like a dictionary, using methods such as `items()`, `keys()`, and `values()`.  For example:"
   ]
  },
  {
   "cell_type": "code",
   "execution_count": 12,
   "metadata": {},
   "outputs": [
    {
     "data": {
      "text/plain": [
       "[(u'status', None),\n",
       " (u'group', None),\n",
       " (u'name', <Literal<str> Purple>),\n",
       " (u'vid', <Literal<int> 10>),\n",
       " (u'site', None),\n",
       " (u'role', None),\n",
       " (u'custom_fields', None),\n",
       " (u'tenant', None),\n",
       " (u'description', None)]"
      ]
     },
     "execution_count": 12,
     "metadata": {},
     "output_type": "execute_result"
    }
   ],
   "source": [
    "rqst.data.items()"
   ]
  },
  {
   "cell_type": "markdown",
   "metadata": {},
   "source": [
    "<div class=\"alert alert-info\">\n",
    "<strong>Info! &nbsp;</strong>When you execute a Request, the halutz library will automatically use the body parameter as a dictionary.  You do not need to explicity convert the data to a dictionary.\n",
    "</div>"
   ]
  },
  {
   "cell_type": "markdown",
   "metadata": {},
   "source": [
    "## Introspecting the Body Fields\n",
    "\n",
    "You can introspec the body fields to see their specific schema values.  To do this, you can use the `propinfo()` method.  For example, if we wanted to know more about the `vid` field:"
   ]
  },
  {
   "cell_type": "code",
   "execution_count": 13,
   "metadata": {},
   "outputs": [
    {
     "data": {
      "text/plain": [
       "{u'description': u'', 'raw_name': u'vid', u'type': u'integer'}"
      ]
     },
     "execution_count": 13,
     "metadata": {},
     "output_type": "execute_result"
    }
   ],
   "source": [
    "rqst.data.propinfo('vid')"
   ]
  },
  {
   "cell_type": "markdown",
   "metadata": {},
   "source": [
    "You can also introspect the field type.  To do this you use the `proptype()` method.  For example:"
   ]
  },
  {
   "cell_type": "code",
   "execution_count": 14,
   "metadata": {},
   "outputs": [
    {
     "data": {
      "text/plain": [
       "int"
      ]
     },
     "execution_count": 14,
     "metadata": {},
     "output_type": "execute_result"
    }
   ],
   "source": [
    "rqst.data.proptype('vid')"
   ]
  },
  {
   "cell_type": "markdown",
   "metadata": {},
   "source": [
    "You can also get the complete Swagger schema specification using the special `__propinfo__` attribute.  For example:"
   ]
  },
  {
   "cell_type": "code",
   "execution_count": 15,
   "metadata": {},
   "outputs": [
    {
     "data": {
      "text/plain": [
       "{u'custom_fields': {u'description': u'',\n",
       "  'raw_name': u'custom_fields',\n",
       "  u'type': u'string'},\n",
       " u'description': {u'description': u'',\n",
       "  'raw_name': u'description',\n",
       "  u'type': u'string'},\n",
       " u'group': {u'description': u'', 'raw_name': u'group', u'type': u'string'},\n",
       " u'name': {u'description': u'', 'raw_name': u'name', u'type': u'string'},\n",
       " u'role': {u'description': u'', 'raw_name': u'role', u'type': u'string'},\n",
       " u'site': {u'description': u'', 'raw_name': u'site', u'type': u'string'},\n",
       " u'status': {u'description': u'', 'raw_name': u'status', u'type': u'string'},\n",
       " u'tenant': {u'description': u'', 'raw_name': u'tenant', u'type': u'string'},\n",
       " u'vid': {u'description': u'', 'raw_name': u'vid', u'type': u'integer'}}"
      ]
     },
     "execution_count": 15,
     "metadata": {},
     "output_type": "execute_result"
    }
   ],
   "source": [
    "rqst.data.__propinfo__"
   ]
  },
  {
   "cell_type": "markdown",
   "metadata": {},
   "source": [
    "## Nested Body Schema Fields\n",
    "\n",
    "You may encounter body schemas that have deeply nested data structures - lists of objects, objects of objects, etc.  In these cases, you can assign these fields in one of two ways.  The first way is to make the assignment using a native python structures of lists and dictionaries.  The second way is to create an instance of the sub-field type.\n",
    "\n",
    "To demonstrate this, we will load an example schema with a nested structure."
   ]
  },
  {
   "cell_type": "code",
   "execution_count": 16,
   "metadata": {},
   "outputs": [],
   "source": [
    "schema = json.load(open('nested-schema.json'))"
   ]
  },
  {
   "cell_type": "code",
   "execution_count": 17,
   "metadata": {},
   "outputs": [
    {
     "data": {
      "text/plain": [
       "{u'properties': {u'port_speed': {u'properties': {u'unit': {u'description': u\"Indicates if 'value' is in units of Gbps or Mbps\",\n",
       "     u'enum': [u'', u'M', u'G'],\n",
       "     u'type': u'string'},\n",
       "    u'value': {u'description': u'scalar multiplier for the speed of the port',\n",
       "     u'enum': [0, 1, 100, 40, 10, 50, 25],\n",
       "     u'format': u'int32',\n",
       "     u'type': u'integer'}},\n",
       "   u'required': [u'value', u'unit'],\n",
       "   u'type': u'object'}},\n",
       " u'type': u'object',\n",
       " u'x-model': u'Example'}"
      ]
     },
     "execution_count": 17,
     "metadata": {},
     "output_type": "execute_result"
    }
   ],
   "source": [
    "schema"
   ]
  },
  {
   "cell_type": "markdown",
   "metadata": {},
   "source": [
    "<div class=\"alert alert-warning\">\n",
    "<strong>NOTICE! &nbsp;</strong> As part of the halutz client, there is a schema class factory called `build`.  You generally would not need to use this as a part of normal Request usage.  I'm using this here simply to do the same meta-class creation that the is done when a Request with a body parameter is created.\n",
    "</div>\n",
    "\n"
   ]
  },
  {
   "cell_type": "code",
   "execution_count": 18,
   "metadata": {},
   "outputs": [],
   "source": [
    "ExampleType = client.build.schema_class(schema, schema['x-model'])"
   ]
  },
  {
   "cell_type": "code",
   "execution_count": 19,
   "metadata": {},
   "outputs": [
    {
     "data": {
      "text/plain": [
       "abc.Example"
      ]
     },
     "execution_count": 19,
     "metadata": {},
     "output_type": "execute_result"
    }
   ],
   "source": [
    "ExampleType"
   ]
  },
  {
   "cell_type": "code",
   "execution_count": 20,
   "metadata": {},
   "outputs": [],
   "source": [
    "example = ExampleType()"
   ]
  },
  {
   "cell_type": "code",
   "execution_count": 21,
   "metadata": {},
   "outputs": [
    {
     "data": {
      "text/plain": [
       "[u'port_speed']"
      ]
     },
     "execution_count": 21,
     "metadata": {},
     "output_type": "execute_result"
    }
   ],
   "source": [
    "example.keys()"
   ]
  },
  {
   "cell_type": "markdown",
   "metadata": {},
   "source": [
    "The `port_speed` is a nested object, which we can see by introspection:"
   ]
  },
  {
   "cell_type": "code",
   "execution_count": 22,
   "metadata": {},
   "outputs": [
    {
     "data": {
      "text/plain": [
       "{u'properties': {u'unit': {u'description': u\"Indicates if 'value' is in units of Gbps or Mbps\",\n",
       "   u'enum': [u'', u'M', u'G'],\n",
       "   'raw_name': u'unit',\n",
       "   u'type': u'string'},\n",
       "  u'value': {u'description': u'scalar multiplier for the speed of the port',\n",
       "   u'enum': [0, 1, 100, 40, 10, 50, 25],\n",
       "   u'format': u'int32',\n",
       "   'raw_name': u'value',\n",
       "   u'type': u'integer'}},\n",
       " 'raw_name': u'port_speed',\n",
       " u'required': [u'value', u'unit'],\n",
       " u'type': abc.port_speed_<anonymous>}"
      ]
     },
     "execution_count": 22,
     "metadata": {},
     "output_type": "execute_result"
    }
   ],
   "source": [
    "example.propinfo('port_speed')"
   ]
  },
  {
   "cell_type": "markdown",
   "metadata": {},
   "source": [
    "Now we could assign the port_speed in one of two ways.  The first is using a native python dictionary:"
   ]
  },
  {
   "cell_type": "code",
   "execution_count": 23,
   "metadata": {},
   "outputs": [],
   "source": [
    "example.port_speed = dict(unit='G', value=40)"
   ]
  },
  {
   "cell_type": "markdown",
   "metadata": {},
   "source": [
    "Or we could obtain a meta-class of the port_speed type and use that.  For example:"
   ]
  },
  {
   "cell_type": "code",
   "execution_count": 24,
   "metadata": {},
   "outputs": [],
   "source": [
    "PortSpeedType = example.proptype('port_speed')"
   ]
  },
  {
   "cell_type": "code",
   "execution_count": 26,
   "metadata": {},
   "outputs": [],
   "source": [
    "example.port_speed = PortSpeedType(unit='G', value=40)"
   ]
  },
  {
   "cell_type": "markdown",
   "metadata": {},
   "source": [
    "And now we can introspect the data as a dictionary to see that this approach is equivalent to the native python approach:"
   ]
  },
  {
   "cell_type": "code",
   "execution_count": 28,
   "metadata": {},
   "outputs": [
    {
     "data": {
      "text/plain": [
       "{u'port_speed': {u'unit': 'G', u'value': 40}}"
      ]
     },
     "execution_count": 28,
     "metadata": {},
     "output_type": "execute_result"
    }
   ],
   "source": [
    "example.as_dict()"
   ]
  },
  {
   "cell_type": "markdown",
   "metadata": {},
   "source": [
    "So which approach should you use -- native python or jsonschema-typed?  The end results are equivalent.  The benefit of using the jsonschema-typed approach are twofold.  First, if you are using the halutz client interactively, you can continue to introspect and assign values as you go along.  Second, the jsonschema-typed approach ensures that your data is validated as you naviagte nested structures.  This approach is easier to debug and troubleshoot as you use the IPython shell."
   ]
  },
  {
   "cell_type": "markdown",
   "metadata": {},
   "source": [
    "# Executing a Request with Body Parameters"
   ]
  },
  {
   "cell_type": "markdown",
   "metadata": {},
   "source": [
    "Again is should be noted that when you are using a Request that has a body parameter, you **DO NOT** need to pass that parameter on the Request call.  For example, if we wanted to create a new VLAN."
   ]
  },
  {
   "cell_type": "code",
   "execution_count": 33,
   "metadata": {},
   "outputs": [],
   "source": [
    "rqst = client.request.ipam.ipam_vlans_create\n",
    "\n",
    "rqst.data.vid = 1001\n",
    "rqst.data.name = \"Marketing\"\n",
    "rqst.data.validate()\n",
    "\n",
    "# execute the request; it knows to use the body parameter so you don't need to \n",
    "# pass it explicity\n",
    "\n",
    "resp, ok = rqst()"
   ]
  }
 ],
 "metadata": {
  "kernelspec": {
   "display_name": "Python 2",
   "language": "python",
   "name": "python2"
  },
  "language_info": {
   "codemirror_mode": {
    "name": "ipython",
    "version": 2
   },
   "file_extension": ".py",
   "mimetype": "text/x-python",
   "name": "python",
   "nbconvert_exporter": "python",
   "pygments_lexer": "ipython2",
   "version": "2.7.10"
  },
  "toc": {
   "nav_menu": {},
   "number_sections": true,
   "sideBar": true,
   "skip_h1_title": false,
   "toc_cell": false,
   "toc_position": {},
   "toc_section_display": "block",
   "toc_window_display": true
  }
 },
 "nbformat": 4,
 "nbformat_minor": 2
}
