{
 "cells": [
  {
   "cell_type": "markdown",
   "metadata": {},
   "source": [
    "# Introduction"
   ]
  },
  {
   "cell_type": "markdown",
   "metadata": {},
   "source": [
    "Welcome to using `halutz` python clients for Swagger based systems!  This library was designed so that you can quickly, easiliy, and **interactively** explore and use APIs without having to be a *hard-core* programmer.  The page provides a quick introduction to the steps required to get started and run your first request."
   ]
  },
  {
   "cell_type": "markdown",
   "metadata": {},
   "source": [
    "## Create Your Client"
   ]
  },
  {
   "cell_type": "markdown",
   "metadata": {},
   "source": [
    "The first step is o create a `Client` instance.  When you create the client, you provide it the Swagger spec\n",
    "dictionary.  You can chose to download the spec at runtime from the target system, or you could simply load it from a JSON file that you have stored locally.  All of the various options are described, [here](Clients.ipynb), for but now, let's use a local file.\n",
    "\n",
    "You will need to provide the URL to the remote system so that commands can be executed.  Let's presume we are using a a Netbox system with the out-of-box defaults."
   ]
  },
  {
   "cell_type": "code",
   "execution_count": 1,
   "metadata": {},
   "outputs": [],
   "source": [
    "from halutz.client import Client\n",
    "import json\n",
    "\n",
    "base_url = 'http://localhost:32768'\n",
    "swagger_spec = json.load(open('swagger_spec.json'))\n",
    "\n",
    "client = Client(base_url=base_url, spec_dict=swagger_spec)"
   ]
  },
  {
   "cell_type": "markdown",
   "metadata": {},
   "source": [
    "<div class=\"alert alert-info\">\n",
    "  <strong>NOTE: &nbsp;</strong> This introduction does not cover using a system that requires authentication.  So for now, we will only do a read-only command with Netbox.  For details on setting up a client with authentication, refer to the <a href=\"Clients.ipynb\">Clients</a> page.\n",
    "</div>"
   ]
  },
  {
   "cell_type": "markdown",
   "metadata": {},
   "source": [
    "## Create a Request"
   ]
  },
  {
   "cell_type": "markdown",
   "metadata": {},
   "source": [
    "Once you've create the client instance, the first step to a execute command is to get a `Request` instance.  You can do this from one of the following methods.  Each of these methods will be explained in more detail.\n",
    "            \n",
    "You can use the `client.request` attribute to get a specific request.  The request attribute is dynamically constructed from the Swagger spec *tags* and *operationId* values.  Complete details on using this are described [here](Client-request-attribute.ipynb).\n",
    "\n",
    "You can call the `client.command_request()` method to get a specific request.  You provide both the http-command, for example \"get\", and the API path, for example \"/api/ipam/vlans\".\n",
    "\n",
    "Finally, you can call the `client.path_requests()` method to get a group of requests based on a path."
   ]
  },
  {
   "cell_type": "markdown",
   "metadata": {},
   "source": [
    "For the purpose of this introduction, we will use the `client.request` attribute.  The other methods are described [here](Requests.ipynb)."
   ]
  },
  {
   "cell_type": "code",
   "execution_count": 2,
   "metadata": {},
   "outputs": [],
   "source": [
    "rqst = client.request.ipam.ipam_vlans_list"
   ]
  },
  {
   "cell_type": "markdown",
   "metadata": {},
   "source": [
    "If you want, you can introspect the variable.  This is very easy when using jupyter notebooks, for example:"
   ]
  },
  {
   "cell_type": "code",
   "execution_count": 3,
   "metadata": {},
   "outputs": [
    {
     "data": {
      "text/plain": [
       "Request: {\n",
       "   \"path\": \"/api/ipam/vlans/\", \n",
       "   \"params\": [\n",
       "      \"status\", \n",
       "      \"group\", \n",
       "      \"name\", \n",
       "      \"vid\", \n",
       "      \"tenant_id\", \n",
       "      \"site_id\", \n",
       "      \"site\", \n",
       "      \"id__in\", \n",
       "      \"role_id\", \n",
       "      \"q\", \n",
       "      \"limit\", \n",
       "      \"offset\", \n",
       "      \"role\", \n",
       "      \"group_id\", \n",
       "      \"tenant\"\n",
       "   ], \n",
       "   \"method\": \"get\"\n",
       "}"
      ]
     },
     "execution_count": 3,
     "metadata": {},
     "output_type": "execute_result"
    }
   ],
   "source": [
    "rqst"
   ]
  },
  {
   "cell_type": "markdown",
   "metadata": {},
   "source": [
    "The complete guide on request-introspection are described [here](Request-Introspection.pynb)."
   ]
  },
  {
   "cell_type": "markdown",
   "metadata": {},
   "source": [
    "## Provide the Request Body Data"
   ]
  },
  {
   "cell_type": "markdown",
   "metadata": {},
   "source": [
    "If your request contains a body parameter, then the `halutz` client will automatically\n",
    "provide create that attribute on your request to use.  For example, if your request has a body\n",
    "parameter called `data`, then your request would have a attribute called `data`.  This exmaple does not have a body data, so we'll skip that here for now.  But working with request body data parameters is explained [here](Request-Body.pynb)."
   ]
  },
  {
   "cell_type": "markdown",
   "metadata": {},
   "source": [
    "## Execute Your Request"
   ]
  },
  {
   "cell_type": "markdown",
   "metadata": {},
   "source": [
    "To execute the request, you *call* it.  When you call it, you must provide any required parameters.  For the purpose of this example, let's use the `name` parameters to retrieve just the VLAN with the desired name.  When you make the call on the request, the returned data is a tuple containing the response-data and whether or not the command executed without error.  For example:"
   ]
  },
  {
   "cell_type": "code",
   "execution_count": 4,
   "metadata": {},
   "outputs": [],
   "source": [
    "resp, ok = rqst(name='Blue')"
   ]
  },
  {
   "cell_type": "markdown",
   "metadata": {},
   "source": [
    "You can now check the value of `ok` to determine if the response contans the response data, or if not ok, it contains the response-payload so you can determine why the command failed.  The complete guide for working with request-responses is [here](Request-responses.pynb).  For now we can show the value of `ok` and then dump the response data.\n",
    "    "
   ]
  },
  {
   "cell_type": "code",
   "execution_count": 5,
   "metadata": {},
   "outputs": [
    {
     "data": {
      "text/plain": [
       "True"
      ]
     },
     "execution_count": 5,
     "metadata": {},
     "output_type": "execute_result"
    }
   ],
   "source": [
    "ok"
   ]
  },
  {
   "cell_type": "code",
   "execution_count": 6,
   "metadata": {},
   "outputs": [
    {
     "data": {
      "text/plain": [
       "{u'count': 1,\n",
       " u'next': None,\n",
       " u'previous': None,\n",
       " u'results': [{u'custom_fields': {},\n",
       "   u'description': u'',\n",
       "   u'display_name': u'100 (Blue)',\n",
       "   u'group': None,\n",
       "   u'id': 3,\n",
       "   u'name': u'Blue',\n",
       "   u'role': None,\n",
       "   u'site': None,\n",
       "   u'status': {u'label': u'Active', u'value': 1},\n",
       "   u'tenant': None,\n",
       "   u'vid': 100}]}"
      ]
     },
     "execution_count": 6,
     "metadata": {},
     "output_type": "execute_result"
    }
   ],
   "source": [
    "resp"
   ]
  },
  {
   "cell_type": "markdown",
   "metadata": {},
   "source": [
    "<div class=\"alert alert-warning\">\n",
    "  <strong>Note!  </strong> If your response data shows no data, it means that you don't have VLAN \"Blue\" defined in your netbox.  You can change the name parameter in the previous step and try again.  \n",
    "</div>\n"
   ]
  },
  {
   "cell_type": "markdown",
   "metadata": {},
   "source": [
    "# Next Topics\n",
    "\n",
    "  - <a href=\"Clients.ipynb\">Learn more about creating Clients</a>\n",
    "  - <a href=\"Client-request-attribute.ipynb\">Learn more about Client \"request\" attribute</a>\n",
    "  - <a href=\"Request-Introspection.ipynb\">Learn more about Request introspection</a>\n",
    "  - <a href=\"Request-Body.ipynb\">Learn more about working with Request body parameters</a>"
   ]
  },
  {
   "cell_type": "code",
   "execution_count": null,
   "metadata": {},
   "outputs": [],
   "source": []
  }
 ],
 "metadata": {
  "kernelspec": {
   "display_name": "Python 2",
   "language": "python",
   "name": "python2"
  },
  "language_info": {
   "codemirror_mode": {
    "name": "ipython",
    "version": 2
   },
   "file_extension": ".py",
   "mimetype": "text/x-python",
   "name": "python",
   "nbconvert_exporter": "python",
   "pygments_lexer": "ipython2",
   "version": "2.7.10"
  },
  "toc": {
   "nav_menu": {},
   "number_sections": true,
   "sideBar": true,
   "skip_h1_title": false,
   "toc_cell": false,
   "toc_position": {},
   "toc_section_display": "block",
   "toc_window_display": true
  }
 },
 "nbformat": 4,
 "nbformat_minor": 2
}
