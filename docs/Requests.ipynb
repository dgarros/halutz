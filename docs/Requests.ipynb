{
 "cells": [
  {
   "cell_type": "markdown",
   "metadata": {},
   "source": [
    "# Requests"
   ]
  },
  {
   "cell_type": "markdown",
   "metadata": {},
   "source": [
    "There are three different ways that you can get a Request instance.  The first method does not require you to know the actual API command, but rather uses the `client.request` attribute, as described [here](Client-request-attribute.ipynb).  The other two methods require you to know the API path, and these methods are described in this section.  Let's get started by first creating our client instance."
   ]
  },
  {
   "cell_type": "code",
   "execution_count": 1,
   "metadata": {},
   "outputs": [],
   "source": [
    "# %load docs_client.py\n",
    "from halutz.client import Client\n",
    "import json\n",
    "\n",
    "server_url = 'http://localhost:32768'\n",
    "swagger_spec = json.load(open('swagger_spec.json'))\n",
    "\n",
    "client = Client(server_url, origin_spec=swagger_spec)"
   ]
  },
  {
   "cell_type": "markdown",
   "metadata": {},
   "source": [
    "## Get Request from Client Attribute\n",
    "\n",
    "Just to recap, here is an example of using the `client.request` attribute to obtain a Request and execute it all in one python statement:"
   ]
  },
  {
   "cell_type": "code",
   "execution_count": 2,
   "metadata": {},
   "outputs": [],
   "source": [
    "resp, ok = client.request.ipam.ipam_vlans_list(name='Blue')"
   ]
  },
  {
   "cell_type": "code",
   "execution_count": 3,
   "metadata": {},
   "outputs": [
    {
     "data": {
      "text/plain": [
       "True"
      ]
     },
     "execution_count": 3,
     "metadata": {},
     "output_type": "execute_result"
    }
   ],
   "source": [
    "ok"
   ]
  },
  {
   "cell_type": "code",
   "execution_count": 4,
   "metadata": {},
   "outputs": [
    {
     "data": {
      "text/plain": [
       "{u'count': 1,\n",
       " u'next': None,\n",
       " u'previous': None,\n",
       " u'results': [{u'custom_fields': {},\n",
       "   u'description': u'',\n",
       "   u'display_name': u'100 (Blue)',\n",
       "   u'group': None,\n",
       "   u'id': 3,\n",
       "   u'name': u'Blue',\n",
       "   u'role': None,\n",
       "   u'site': None,\n",
       "   u'status': {u'label': u'Active', u'value': 1},\n",
       "   u'tenant': None,\n",
       "   u'vid': 100}]}"
      ]
     },
     "execution_count": 4,
     "metadata": {},
     "output_type": "execute_result"
    }
   ],
   "source": [
    "resp"
   ]
  },
  {
   "cell_type": "markdown",
   "metadata": {},
   "source": [
    "## Get Request from Command"
   ]
  },
  {
   "cell_type": "markdown",
   "metadata": {},
   "source": [
    "You can get a specific API command using the `client.command_request()` method.  For this you must provide both the http-command, for example \"get\", and the exact API path.  For example:"
   ]
  },
  {
   "cell_type": "code",
   "execution_count": 5,
   "metadata": {},
   "outputs": [],
   "source": [
    "rqst = client.command_request('get', '/api/ipam/vlans/')"
   ]
  },
  {
   "cell_type": "markdown",
   "metadata": {},
   "source": [
    "We can introspect to see the details of this request:"
   ]
  },
  {
   "cell_type": "code",
   "execution_count": 6,
   "metadata": {},
   "outputs": [
    {
     "data": {
      "text/plain": [
       "Request: {\n",
       "   \"path\": \"/api/ipam/vlans/\", \n",
       "   \"params\": [\n",
       "      \"status\", \n",
       "      \"group\", \n",
       "      \"name\", \n",
       "      \"vid\", \n",
       "      \"tenant_id\", \n",
       "      \"site_id\", \n",
       "      \"site\", \n",
       "      \"id__in\", \n",
       "      \"role_id\", \n",
       "      \"q\", \n",
       "      \"limit\", \n",
       "      \"offset\", \n",
       "      \"role\", \n",
       "      \"group_id\", \n",
       "      \"tenant\"\n",
       "   ], \n",
       "   \"method\": \"get\"\n",
       "}"
      ]
     },
     "execution_count": 6,
     "metadata": {},
     "output_type": "execute_result"
    }
   ],
   "source": [
    "rqst"
   ]
  },
  {
   "cell_type": "markdown",
   "metadata": {},
   "source": [
    "And finally, we can execute this request by making a call on it:"
   ]
  },
  {
   "cell_type": "code",
   "execution_count": 7,
   "metadata": {},
   "outputs": [],
   "source": [
    "resp, ok = rqst()"
   ]
  },
  {
   "cell_type": "code",
   "execution_count": 8,
   "metadata": {},
   "outputs": [
    {
     "data": {
      "text/plain": [
       "True"
      ]
     },
     "execution_count": 8,
     "metadata": {},
     "output_type": "execute_result"
    }
   ],
   "source": [
    "ok"
   ]
  },
  {
   "cell_type": "code",
   "execution_count": 9,
   "metadata": {},
   "outputs": [
    {
     "data": {
      "text/plain": [
       "{u'count': 1,\n",
       " u'next': None,\n",
       " u'previous': None,\n",
       " u'results': [{u'custom_fields': {},\n",
       "   u'description': u'',\n",
       "   u'display_name': u'100 (Blue)',\n",
       "   u'group': None,\n",
       "   u'id': 3,\n",
       "   u'name': u'Blue',\n",
       "   u'role': None,\n",
       "   u'site': None,\n",
       "   u'status': {u'label': u'Active', u'value': 1},\n",
       "   u'tenant': None,\n",
       "   u'vid': 100}]}"
      ]
     },
     "execution_count": 9,
     "metadata": {},
     "output_type": "execute_result"
    }
   ],
   "source": [
    "resp"
   ]
  },
  {
   "cell_type": "markdown",
   "metadata": {},
   "source": [
    "For requests that do not have body parameters, you can easily combine these steps into one python statement:"
   ]
  },
  {
   "cell_type": "code",
   "execution_count": 10,
   "metadata": {},
   "outputs": [],
   "source": [
    "resp, ok = client.command_request('get', '/api/ipam/vlans/')()"
   ]
  },
  {
   "cell_type": "markdown",
   "metadata": {},
   "source": [
    "## Get Collection of Requests\n",
    "\n",
    "In some situations you may want to get all of the Requests associated with a specific API path.  For example, you might want to get all of the requests associated with the \"/api/ipam/vlans/\" path so that you can both list all VLANs and create a new one.  In order to get all of the requests, you can use the `client.path_requests()` method:"
   ]
  },
  {
   "cell_type": "code",
   "execution_count": 11,
   "metadata": {},
   "outputs": [],
   "source": [
    "commands = client.path_requests('/api/ipam/vlans/')"
   ]
  },
  {
   "cell_type": "markdown",
   "metadata": {},
   "source": [
    "If you introspec the `commands` variable, you will find a list of all of the commands available.  For example:"
   ]
  },
  {
   "cell_type": "code",
   "execution_count": 13,
   "metadata": {},
   "outputs": [
    {
     "data": {
      "text/plain": [
       "[u'get', u'post']"
      ]
     },
     "execution_count": 13,
     "metadata": {},
     "output_type": "execute_result"
    }
   ],
   "source": [
    "commands"
   ]
  },
  {
   "cell_type": "markdown",
   "metadata": {},
   "source": [
    "You can then use the `commands` to call the specific command using the attribute method, as shown:"
   ]
  },
  {
   "cell_type": "code",
   "execution_count": 14,
   "metadata": {},
   "outputs": [],
   "source": [
    "resp, ok = commands.get()"
   ]
  },
  {
   "cell_type": "code",
   "execution_count": 15,
   "metadata": {},
   "outputs": [
    {
     "data": {
      "text/plain": [
       "True"
      ]
     },
     "execution_count": 15,
     "metadata": {},
     "output_type": "execute_result"
    }
   ],
   "source": [
    "ok"
   ]
  },
  {
   "cell_type": "code",
   "execution_count": 16,
   "metadata": {},
   "outputs": [
    {
     "data": {
      "text/plain": [
       "{u'count': 1,\n",
       " u'next': None,\n",
       " u'previous': None,\n",
       " u'results': [{u'custom_fields': {},\n",
       "   u'description': u'',\n",
       "   u'display_name': u'100 (Blue)',\n",
       "   u'group': None,\n",
       "   u'id': 3,\n",
       "   u'name': u'Blue',\n",
       "   u'role': None,\n",
       "   u'site': None,\n",
       "   u'status': {u'label': u'Active', u'value': 1},\n",
       "   u'tenant': None,\n",
       "   u'vid': 100}]}"
      ]
     },
     "execution_count": 16,
     "metadata": {},
     "output_type": "execute_result"
    }
   ],
   "source": [
    "resp"
   ]
  },
  {
   "cell_type": "markdown",
   "metadata": {},
   "source": [
    "# Next Topics\n",
    "\n",
    "  - <a href=\"Request-Introspection.ipynb\">Learn how to instrospect Requests</a>\n",
    "  - <a href=\"Request-Body.ipynb\">Learn how to work with Request body parameters</a>\n",
    "  - <a href=\"Request-Responses.ipynb\">Learn how to handle Request responses</a>"
   ]
  },
  {
   "cell_type": "code",
   "execution_count": null,
   "metadata": {},
   "outputs": [],
   "source": []
  }
 ],
 "metadata": {
  "kernelspec": {
   "display_name": "Python 2",
   "language": "python",
   "name": "python2"
  },
  "language_info": {
   "codemirror_mode": {
    "name": "ipython",
    "version": 2
   },
   "file_extension": ".py",
   "mimetype": "text/x-python",
   "name": "python",
   "nbconvert_exporter": "python",
   "pygments_lexer": "ipython2",
   "version": "2.7.10"
  },
  "toc": {
   "nav_menu": {},
   "number_sections": true,
   "sideBar": true,
   "skip_h1_title": false,
   "toc_cell": false,
   "toc_position": {},
   "toc_section_display": "block",
   "toc_window_display": true
  }
 },
 "nbformat": 4,
 "nbformat_minor": 2
}
