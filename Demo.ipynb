{
 "cells": [
  {
   "cell_type": "code",
   "execution_count": 1,
   "metadata": {},
   "outputs": [],
   "source": [
    "from halutz.client import Client\n",
    "from requests.sessions import Session\n",
    "import json\n",
    "\n",
    "my_session = Session()\n",
    "my_session.headers['Authorization'] = \"Token 0123456789abcdef0123456789abcdef01234567\"\n",
    "my_api_url = 'http://localhost:32768'\n",
    "my_api_doc_url = my_api_url + \"/api/docs?format=openapi\"\n",
    "\n",
    "client = Client(origin_url=my_api_url, \n",
    "                spec_dict=my_session.get(my_api_doc_url).json(),\n",
    "                requests_session=my_session)"
   ]
  },
  {
   "cell_type": "code",
   "execution_count": 17,
   "metadata": {},
   "outputs": [
    {
     "data": {
      "text/plain": [
       "{\"client-url\": \"http://localhost:32768\"}"
      ]
     },
     "execution_count": 17,
     "metadata": {},
     "output_type": "execute_result"
    }
   ],
   "source": [
    "client"
   ]
  },
  {
   "cell_type": "code",
   "execution_count": 18,
   "metadata": {},
   "outputs": [],
   "source": [
    "rqst = client.request.ipam.ipam_vlans_create\n"
   ]
  },
  {
   "cell_type": "code",
   "execution_count": 19,
   "metadata": {},
   "outputs": [
    {
     "data": {
      "text/plain": [
       "Request: {\n",
       "   \"path\": \"/api/ipam/vlans/\", \n",
       "   \"params\": [\n",
       "      \"data\"\n",
       "   ], \n",
       "   \"method\": \"post\"\n",
       "}"
      ]
     },
     "execution_count": 19,
     "metadata": {},
     "output_type": "execute_result"
    }
   ],
   "source": [
    "rqst"
   ]
  },
  {
   "cell_type": "code",
   "execution_count": 20,
   "metadata": {},
   "outputs": [
    {
     "data": {
      "text/plain": [
       "[u'status',\n",
       " u'group',\n",
       " u'name',\n",
       " u'vid',\n",
       " u'site',\n",
       " u'role',\n",
       " u'tenant',\n",
       " u'custom_fields',\n",
       " u'description']"
      ]
     },
     "execution_count": 20,
     "metadata": {},
     "output_type": "execute_result"
    }
   ],
   "source": [
    "rqst.data.keys()"
   ]
  },
  {
   "cell_type": "code",
   "execution_count": 21,
   "metadata": {},
   "outputs": [],
   "source": [
    "rqst.data.vid = 100\n",
    "rqst.data.name = 'VLAN-BLUE'"
   ]
  },
  {
   "cell_type": "code",
   "execution_count": 22,
   "metadata": {},
   "outputs": [],
   "source": [
    "resp, ok = rqst()"
   ]
  },
  {
   "cell_type": "code",
   "execution_count": 23,
   "metadata": {},
   "outputs": [
    {
     "data": {
      "text/plain": [
       "True"
      ]
     },
     "execution_count": 23,
     "metadata": {},
     "output_type": "execute_result"
    }
   ],
   "source": [
    "ok"
   ]
  },
  {
   "cell_type": "code",
   "execution_count": 24,
   "metadata": {},
   "outputs": [
    {
     "data": {
      "text/plain": [
       "{u'description': u'',\n",
       " u'group': None,\n",
       " u'id': 3,\n",
       " u'name': u'VLAN-BLUE',\n",
       " u'role': None,\n",
       " u'site': None,\n",
       " u'status': 1,\n",
       " u'tenant': None,\n",
       " u'vid': 100}"
      ]
     },
     "execution_count": 24,
     "metadata": {},
     "output_type": "execute_result"
    }
   ],
   "source": [
    "resp"
   ]
  },
  {
   "cell_type": "code",
   "execution_count": null,
   "metadata": {},
   "outputs": [],
   "source": []
  }
 ],
 "metadata": {
  "kernelspec": {
   "display_name": "Python 2",
   "language": "python",
   "name": "python2"
  },
  "language_info": {
   "codemirror_mode": {
    "name": "ipython",
    "version": 2
   },
   "file_extension": ".py",
   "mimetype": "text/x-python",
   "name": "python",
   "nbconvert_exporter": "python",
   "pygments_lexer": "ipython2",
   "version": "2.7.10"
  }
 },
 "nbformat": 4,
 "nbformat_minor": 2
}
